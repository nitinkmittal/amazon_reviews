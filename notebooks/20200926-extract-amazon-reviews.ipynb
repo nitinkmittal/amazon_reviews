{
 "cells": [
  {
   "cell_type": "code",
   "execution_count": 1,
   "metadata": {},
   "outputs": [],
   "source": [
    "%load_ext autoreload\n",
    "%autoreload 2"
   ]
  },
  {
   "cell_type": "code",
   "execution_count": 2,
   "metadata": {},
   "outputs": [],
   "source": [
    "from sys import path\n",
    "from os import getcwd\n",
    "from bs4 import BeautifulSoup"
   ]
  },
  {
   "cell_type": "code",
   "execution_count": 3,
   "metadata": {},
   "outputs": [],
   "source": [
    "PROJECT_PATH = getcwd()[:getcwd().find(\"notebooks\")][:-1]\n",
    "path.append(f\"{PROJECT_PATH}\\\\src\")"
   ]
  },
  {
   "cell_type": "code",
   "execution_count": 4,
   "metadata": {},
   "outputs": [],
   "source": [
    "from edge_driver import (\n",
    "    open_driver, \n",
    "    load_url, \n",
    "    get_driver_page_source)\n",
    "from extract_reviews import extract_all_reviews\n",
    "from utils import (load_pickle, \n",
    "                   dump_pickle, \n",
    "                   create_dir)\n",
    "from parse_reviews import parse_review"
   ]
  },
  {
   "cell_type": "code",
   "execution_count": 5,
   "metadata": {},
   "outputs": [
    {
     "name": "stdout",
     "output_type": "stream",
     "text": [
      "Failed creating directory, exception : [WinError 183] Cannot create a file when that file already exists: 'E:\\\\Projects\\\\amazon_reviews\\\\pickles'\n"
     ]
    }
   ],
   "source": [
    "PICKLE_PATH = f\"{PROJECT_PATH}\\\\pickles\"\n",
    "create_dir(PICKLE_PATH)"
   ]
  },
  {
   "cell_type": "code",
   "execution_count": 6,
   "metadata": {},
   "outputs": [],
   "source": [
    "driver = open_driver()"
   ]
  },
  {
   "cell_type": "code",
   "execution_count": 7,
   "metadata": {},
   "outputs": [],
   "source": [
    "PRODUCT_NAME = \"Bedding-Utopia\""
   ]
  },
  {
   "cell_type": "code",
   "execution_count": 8,
   "metadata": {},
   "outputs": [],
   "source": [
    "# base_url = (\"https://www.amazon.com/All-New-Echo-Kids-designed-Rainbow/\"\n",
    "#             \"product-reviews/B07Q2MXPH6/ref=cm_cr_getr_d_paging_btm_next_1?ie=UTF8&\"\n",
    "#             \"reviewerType=avp_only_reviews&pageNumber=1\")"
   ]
  },
  {
   "cell_type": "code",
   "execution_count": 9,
   "metadata": {},
   "outputs": [],
   "source": [
    "# base_url = (\"https://www.amazon.com/LINENSPA-All-Season-Alternative-Quilted-Comforter/\"\n",
    "#             \"product-reviews/B00VGR4VW4/ref=cm_cr_getr_d_paging_btm_next_1?ie=UTF8&\"\n",
    "#             \"reviewerType=avp_only_reviews&pageNumber=1\")\n",
    "\n",
    "base_url = (\"https://www.amazon.com/Utopia-Bedding-Sheet-Fitted-Pillowcases/\"\n",
    "            \"product-reviews/B00VNHD8KS/ref=cm_cr_getr_d_paging_btm_next_1?ie=UTF8&\"\n",
    "            \"reviewerType=avp_only_reviews&pageNumber=1\")"
   ]
  },
  {
   "cell_type": "code",
   "execution_count": 10,
   "metadata": {},
   "outputs": [],
   "source": [
    "def beautiful_page_no(num, pad=3):\n",
    "    return str(num).rjust(pad,'0')"
   ]
  },
  {
   "cell_type": "code",
   "execution_count": null,
   "metadata": {},
   "outputs": [],
   "source": [
    "page_no = 1\n",
    "until_page_no = 500\n",
    "while(page_no < until_page_no):\n",
    "    reviews, success_page_nos, failed_page_nos = extract_all_reviews(driver=driver,\n",
    "                                                                     url=base_url,\n",
    "                                                                     start_page_no = page_no,\n",
    "                                                                     max_num_pages = 1,\n",
    "                                                                     verbose = 5)\n",
    "    parsed_reviews = {}\n",
    "    for key, val in reviews.items():\n",
    "        page_reviews = []\n",
    "        for review in val:\n",
    "            page_reviews.append(parse_review(review = review))\n",
    "        parsed_reviews[page_no] = page_reviews\n",
    "        \n",
    "        file_name = f\"{PRODUCT_NAME}-reviews-page-{beautiful_page_no(key)}\"\n",
    "        dump_pickle(parsed_reviews,\n",
    "                    filename=f\"{PICKLE_PATH}\\\\{file_name}\")\n",
    "    page_no += 1"
   ]
  },
  {
   "cell_type": "code",
   "execution_count": 22,
   "metadata": {},
   "outputs": [
    {
     "data": {
      "text/plain": [
       "[]"
      ]
     },
     "execution_count": 22,
     "metadata": {},
     "output_type": "execute_result"
    }
   ],
   "source": [
    "failed_page_nos"
   ]
  },
  {
   "cell_type": "code",
   "execution_count": 33,
   "metadata": {},
   "outputs": [
    {
     "data": {
      "text/plain": [
       "{19: [{'reviewer_id': 'AHXBM275HCRVZ65SECOBRGN6UTFA',\n",
       "   'name': 'Gazmuth',\n",
       "   'rating': 5.0,\n",
       "   'title': 'Get this comforter if you want to sleep in comfort!!!',\n",
       "   'date': 'February 8, 2017',\n",
       "   'helpful_count': 2,\n",
       "   'body': \"I am amazed at how wonderful, light and warm this comforter is! It's hard to tell the difference between this and a feather comforter. We've had a strange winter so far here in Northern Oklahoma, some nights are very cold and others are warm. With normal blankets I'd be adding them one night and taking them off the next to stay comfortable. I was pleasantly surprised when I realized that this comforter by itself, kept me warm and cozy on the cold nights and kept me cool on the warm nights! I love this comforter so much that will buy more of these for my home and I plan on giving these blankets as Gifts. I can't believe how inexpensive they are, how high the quality of craftsmanship and how marvelous it feels to sleep under this extremely delightful comforter. If you want to sleep deep and awaken refreshed... get this comforter!\",\n",
       "   'images': []},\n",
       "  {'reviewer_id': 'AHL5EXAIGHSK2ZXNB27WIEQZUSIA',\n",
       "   'name': 'Shayla',\n",
       "   'rating': 1.0,\n",
       "   'title': 'Nothing like down! Cotton and cheaply made!',\n",
       "   'date': 'October 25, 2019',\n",
       "   'helpful_count': 2,\n",
       "   'body': 'I might be the only person out there who hated this blanket... But this \"down alternative\" was like no down I\\'ve ever felt. This reminded me of my 90s era kids thin cotton comforters... Lumpy and not warm enough. It was promptly returned, and was really hard to get back in the package without a vacuum sealer too.',\n",
       "   'images': []},\n",
       "  {'reviewer_id': 'AHQGSE6OQX7AKGDHD666PZTW673Q',\n",
       "   'name': 'Amazon Customer',\n",
       "   'rating': 1.0,\n",
       "   'title': 'While it is large and fits nicely on our king sized bed',\n",
       "   'date': 'January 12, 2017',\n",
       "   'helpful_count': 11,\n",
       "   'body': 'If I could give this product less than one star I would. While it is large and fits nicely on our king sized bed, it has immediately started to pill and tear. No wonder this product was so inexpensive - you get what you pay for.',\n",
       "   'images': []},\n",
       "  {'reviewer_id': 'AHPA772FP7GGYX7Y6P5VS3NSFFDQ',\n",
       "   'name': 'Winter Post',\n",
       "   'rating': 1.0,\n",
       "   'title': 'Disappointment',\n",
       "   'date': 'July 21, 2020',\n",
       "   'helpful_count': 1,\n",
       "   'body': 'Let me start off by saying, right off the bat I was annoyed because it didn’t ship out until almost a month after it was supposed to, but I can let that go, it finally arrived and I was super excited! It was very soft and warm without being too hot.I Had this comforter on my bed for less than a week before the first hole randomly showed up. Annoying but I figured it will be fine and unnoticeable, but then it got worse.The thing is completely falling apart, and it wasn’t exactly a cheap comforter. I paid a lot of memory for an unusable blanket a month later.',\n",
       "   'images': ['https://images-na.ssl-images-amazon.com/images/I/81LFIb1PQRL._SY88.jpg']},\n",
       "  {'reviewer_id': 'AGEGIIRE6RD2BDC3EMNB3HUUF66A',\n",
       "   'name': 'Mark of Mana',\n",
       "   'rating': 5.0,\n",
       "   'title': 'Most Comfortable Comforter EVER',\n",
       "   'date': 'February 4, 2018',\n",
       "   'helpful_count': 2,\n",
       "   'body': \"First off... LOVE THIS COMFORTER! I bought this comforter on sale when it was Amazon Prime day and also because I needed a new comforter, as my dog had accidentally clawed through my other one. It had only been about $30-$40 at the time so I figured why not. I also got it in the Queen Plus size for a very good reason... because not only does my boyfriend steal covers, but so does the dog. I FINALLY GET SOME BLANKET AT NIGHT. Not only that, but the dog has yet to claw through it (she's Pitbull/Greyhound mix and her claws get SHARP... my fault). It's super soft and comfortable, durable, and washes great (pet hair! UGH!). My boyfriend loves it too. We'll definitely be getting more in other colors soon (we have the Gray/Charcoal one now). I'm eyeing that Gray/Navy one. Wishing it came in a few more colors, like a Pale Blue and Gray or Purple and Gray. That's about the only downside of this product is the lack of color pallet. But honestly... not a big deal AT ALL. Love love love. Love. Love.\",\n",
       "   'images': []},\n",
       "  {'reviewer_id': 'AHCE6XFL3I3JNHI4BYP23X66VZ7Q',\n",
       "   'name': 'SpookySelf.13',\n",
       "   'rating': 5.0,\n",
       "   'title': '\"Perfectly Plush\"',\n",
       "   'date': 'January 29, 2018',\n",
       "   'helpful_count': 1,\n",
       "   'body': 'This comforter is simply wonderful. I have not yet purchased a duvet cover; honestly, I\\'m in no hurry. The color (grey and white stripes, solid grey on reverse side) is great, exactly as pictured. I was worried it wouldn\\'t be thick enough, but no problems there. It\\'s just right. Not heavy, but certainly NOT thin, at all. I would describe it as \"perfectly plush\". I bought it as an extra layer for warmth, as it is late January, and my bedroom is the coldest room in the house, but it\\'s surprisingly warm. So warm, in fact, that I\\'ve been using it alone as a top cover, without even a top sheet because I like the way it feels on my skin. It is super-duper soft to the touch, and makes my bed feel absolutely luxurious. Worth every penny, I love, love, love it!',\n",
       "   'images': []},\n",
       "  {'reviewer_id': 'AGV27264H7YTXHGSCMGXWAPLAB7A',\n",
       "   'name': 'FragolaJen',\n",
       "   'rating': 5.0,\n",
       "   'title': 'Like sleeping in a marshmallow',\n",
       "   'date': 'May 5, 2020',\n",
       "   'helpful_count': 0,\n",
       "   'body': 'Great purchase! I get very cold at night but my husband gets hot. I got tired of waking up cold wearing 3 layers of clothes while my husband rolled himself up like a sweaty burrito while fighting ninjas in his sleep, so I decided having my own twin-size duvet was a good idea. I found this on a \"Top 10\" list with 9 others that were 3x the cost, and this had the most consistently positive reviews. I needed down alternative and this is quilted so the stuffing doesn\\'t shift. I wanted to feel like I\\'m sleeping in a light, fluffy, marshmallow and this delivers. The material is soft and the colors are pretty, but I bought a duvet cover to keep it nice longer. The XL is REALLY long which I like, but check the length if you\\'re looking at covers. It fit in my top-loading washer (no agitator) and dryer with no problem. I\\'m going to buy more of these for my kids and sister. No complaints!',\n",
       "   'images': ['https://images-na.ssl-images-amazon.com/images/I/61as4Ow1BGL._SY88.jpg']},\n",
       "  {'reviewer_id': 'AHJXQ7FW33N5WMI4URGEJCCUF35A',\n",
       "   'name': 'Brian Schlamp',\n",
       "   'rating': 1.0,\n",
       "   'title': 'Be careful',\n",
       "   'date': 'June 11, 2020',\n",
       "   'helpful_count': 1,\n",
       "   'body': \"This is a dangerous product I put this in my dryer on medium I started to smell something and it was burning. I looked at the directions and it said to heat on low but still medium heat should not have caused this, this is a fire hazard! Imagine if I wasn't in the house or somebody put it on high or God for bid ya cigarette or something hits this.\",\n",
       "   'images': ['https://images-na.ssl-images-amazon.com/images/I/71ayihfeHSL._SY88.jpg',\n",
       "    'https://images-na.ssl-images-amazon.com/images/I/71w0qVNBHqL._SY88.jpg']},\n",
       "  {'reviewer_id': 'AGAI4HWZDOUGAPKEWKHP4WC2IZMQ',\n",
       "   'name': 'Bob Chambers',\n",
       "   'rating': 5.0,\n",
       "   'title': 'Very comfortable.',\n",
       "   'date': 'August 26, 2020',\n",
       "   'helpful_count': 0,\n",
       "   'body': 'I purchased two of these. One for me and one for my daughter. These comforters are really comfortable and lightweight for summer use. Looking forward to see how well they keep use warm come winter time. They are good quality. My daughter usually throws off blankets and comforters every time she is sleeping. When I check on her while she sleeps, this comforter is on her. I do not like to be hot when I sleep and this comforter keeps me cool. This is a great product. P.S. mine came with two pillow cases.',\n",
       "   'images': []},\n",
       "  {'reviewer_id': 'AEJW623CGQQ77VGMIDG72Q7JRLRQ',\n",
       "   'name': 'Lyn',\n",
       "   'rating': 4.0,\n",
       "   'title': 'Soft, comfy, looks great. Very warm!',\n",
       "   'date': 'January 15, 2019',\n",
       "   'helpful_count': 2,\n",
       "   'body': \"Love this comforter. It's pretty enough without a cover, but we do use a cover with it. It's VERY warm - cozy for very cold nights but often too much (I run hot). My husband isn't a furnace like me and he doesn't think it's too warm. It isn't quite as fluffy and cloud like as I hoped but it's very soft and comfy. I haven't had it long - it seems durable but can't really vouch for that yet.\",\n",
       "   'images': []}]}"
      ]
     },
     "execution_count": 33,
     "metadata": {},
     "output_type": "execute_result"
    }
   ],
   "source": [
    "load_pickle(f\"{PICKLE_PATH}\\\\{PRODUCT_NAME}-reviews-page-{beautiful_page_no(19)}\")"
   ]
  },
  {
   "cell_type": "code",
   "execution_count": null,
   "metadata": {},
   "outputs": [],
   "source": []
  }
 ],
 "metadata": {
  "kernelspec": {
   "display_name": "amazon_reviews",
   "language": "python",
   "name": "amazon_reviews"
  },
  "language_info": {
   "codemirror_mode": {
    "name": "ipython",
    "version": 3
   },
   "file_extension": ".py",
   "mimetype": "text/x-python",
   "name": "python",
   "nbconvert_exporter": "python",
   "pygments_lexer": "ipython3",
   "version": "3.8.5"
  }
 },
 "nbformat": 4,
 "nbformat_minor": 4
}
