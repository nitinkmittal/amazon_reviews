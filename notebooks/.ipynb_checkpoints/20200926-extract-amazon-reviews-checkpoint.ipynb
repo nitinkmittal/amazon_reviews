{
 "cells": [
  {
   "cell_type": "code",
   "execution_count": 1,
   "metadata": {},
   "outputs": [],
   "source": [
    "%load_ext autoreload\n",
    "%autoreload 2"
   ]
  },
  {
   "cell_type": "code",
   "execution_count": 2,
   "metadata": {},
   "outputs": [],
   "source": [
    "from sys import path\n",
    "from os import getcwd\n",
    "from bs4 import BeautifulSoup"
   ]
  },
  {
   "cell_type": "code",
   "execution_count": 3,
   "metadata": {},
   "outputs": [],
   "source": [
    "PROJECT_PATH = getcwd()[:getcwd().find(\"notebooks\")][:-1]\n",
    "path.append(f\"{PROJECT_PATH}\\\\src\")"
   ]
  },
  {
   "cell_type": "code",
   "execution_count": 37,
   "metadata": {},
   "outputs": [],
   "source": [
    "from edge_driver import (\n",
    "    open_driver, \n",
    "    load_url, \n",
    "    get_driver_page_source)\n",
    "from extract_reviews import extract_all_reviews\n",
    "from utils import (load_pickle, \n",
    "                   dump_pickle, \n",
    "                   create_dir)"
   ]
  },
  {
   "cell_type": "code",
   "execution_count": 6,
   "metadata": {},
   "outputs": [
    {
     "name": "stdout",
     "output_type": "stream",
     "text": [
      "Failed creating directory, exception : [WinError 183] Cannot create a file when that file already exists: 'E:\\\\Projects\\\\amazon_reviews\\\\pickles'\n"
     ]
    }
   ],
   "source": [
    "PICKLE_PATH = f\"{PROJECT_PATH}\\\\pickles\"\n",
    "create_dir(PICKLE_PATH)"
   ]
  },
  {
   "cell_type": "code",
   "execution_count": 7,
   "metadata": {},
   "outputs": [],
   "source": [
    "driver = open_driver()"
   ]
  },
  {
   "cell_type": "code",
   "execution_count": 8,
   "metadata": {},
   "outputs": [],
   "source": [
    "base_url = (\"https://www.amazon.com/All-New-Echo-Kids-designed-Rainbow/\"\n",
    "            \"product-reviews/B07Q2MXPH6/ref=cm_cr_getr_d_paging_btm_next_1?ie=UTF8&\"\n",
    "            \"reviewerType=avp_only_reviews&pageNumber=1\")"
   ]
  },
  {
   "cell_type": "code",
   "execution_count": 38,
   "metadata": {},
   "outputs": [
    {
     "name": "stdout",
     "output_type": "stream",
     "text": [
      "Extracting reviews from page : 1\n",
      "Loading page\n"
     ]
    }
   ],
   "source": [
    "page_no = 1\n",
    "while(page_no < 2):\n",
    "    reviews = extract_all_reviews(driver=driver,\n",
    "                                  url=base_url,\n",
    "                                  start_page_no = page_no,\n",
    "                                  max_num_pages = page_no,\n",
    "                                  verbose = 5)\n",
    "#     file_name = f\"reviews-page-{page_no}\"\n",
    "#     dump_pickle(reviews,\n",
    "#                 filename=f\"{PICKLE_PATH}\\\\{file_name}\")\n",
    "    page_no += 1"
   ]
  },
  {
   "cell_type": "code",
   "execution_count": 41,
   "metadata": {},
   "outputs": [
    {
     "data": {
      "text/plain": [
       "{'reviewer_id': 'AGTNOSUOA5IVU2BCKGPG3U2CCJ7A',\n",
       " 'name': 'Bill B.',\n",
       " 'rating': '2.0 out of 5 stars',\n",
       " 'title': '\\nNot ready for prime time\\n',\n",
       " 'date': 'Reviewed in the United States on November 12, 2019',\n",
       " 'helpful_count': <span class=\"a-size-base a-color-tertiary cr-vote-text\" data-hook=\"helpful-vote-statement\">298 people found this helpful</span>,\n",
       " 'body': <span class=\"a-size-base review-text review-text-content\" data-hook=\"review-body\">\n",
       " <span>\n",
       "   This is the epitome of a good idea marred by poor execution. A lot of the stock skills (Disney Stories, for instance, which is a large part of why I bought the thing) are clunky or glitchy, and have tons of bugs. It doesn't handle errors gracefully- and leaves me in the position of trying to explain a software bug to a 4 year old who doesn't understand and just wants a Puppy Dog Pals story before bed.<br/><br/>I can't switch profiles and use FreeTime with another profile. The end result is that every time my kids ask it to play music, it cuts off my Spotify, which is hindering my ability to listen at work. On top of that, if they don't specify the song, it has some pretty weird choices for kids' music- most notable recently is \"Emotion\" by the Bee Gees.<br/><br/>It's as strict as a regular Alexa at interpreting commands- \"Read me Disney Stories\" gets you the Disney Stories skill, but \"Read me a Disney story\" gets you the Disney Wikipedia entry read to you- and this isn't really ideal for children.<br/><br/>Perhaps worst of all, the parental controls over skills is pretty spotty. For instance, it lets my kids control our Nest thermostat even in FreeTime, which is unfortunate because I accidentally let them overhear me doing it recently and all it took was one time hearing the command for them to start messing with the temperature. It lets them control our Master Bedroom lights from their room. It also lets them randomly drop in on other Echoes- awkward when Mommy and Daddy are enjoying some \"alone time\" or when Great Grandma can't figure out why she can hear them coming from her device.<br/><br/>And you don't even want to hear about the time the trigger word was randomly changed on its own. That took thirty agonizing minutes of crying toddler tantrum to figure out (and I suspect I got it faster than most- I do software troubleshooting for a living!)<br/><br/>Honestly, the best I can say is that the year of FreeTime that comes with it is nice- but in the end I wish I had not bought it. Now getting rid of it would feel like a punishment to them, so the tranquility of my home for the foreseeable future is at the dubious mercy of underpaid and overworked Amazon developers...<br/><br/>Alexa, play Despacito.\n",
       " </span>\n",
       " </span>,\n",
       " 'images': None}"
      ]
     },
     "execution_count": 41,
     "metadata": {},
     "output_type": "execute_result"
    }
   ],
   "source": [
    "reviews[1][0]"
   ]
  },
  {
   "cell_type": "code",
   "execution_count": 15,
   "metadata": {},
   "outputs": [],
   "source": [
    "def clean_text(text):\n",
    "    text = text.replace(\"\\n\",\" \")\n",
    "    text = \" \".join(text.split())\n",
    "    return text"
   ]
  },
  {
   "cell_type": "code",
   "execution_count": 16,
   "metadata": {},
   "outputs": [],
   "source": [
    "def extract_date(text : str):\n",
    "    remove_text = \"Reviewed in the United States on\"\n",
    "    text =  text.replace(remove_text,\"\")\n",
    "    return text.strip()"
   ]
  },
  {
   "cell_type": "code",
   "execution_count": 17,
   "metadata": {},
   "outputs": [],
   "source": [
    "from re import findall\n",
    "def extract_helpful_count(text : str):\n",
    "    return int(findall(pattern=r\"\\d+\", string=text)[0])"
   ]
  },
  {
   "cell_type": "code",
   "execution_count": 18,
   "metadata": {},
   "outputs": [],
   "source": [
    "def extract_rating(text : str):\n",
    "    remove_text = \"out of 5 stars\"\n",
    "    text = text.replace(remove_text, \"\")\n",
    "    text = text.strip()\n",
    "    return float(text)"
   ]
  },
  {
   "cell_type": "code",
   "execution_count": 25,
   "metadata": {},
   "outputs": [],
   "source": [
    "t = {\"a\":2}"
   ]
  },
  {
   "cell_type": "code",
   "execution_count": 31,
   "metadata": {},
   "outputs": [
    {
     "data": {
      "text/plain": [
       "'a'"
      ]
     },
     "execution_count": 31,
     "metadata": {},
     "output_type": "execute_result"
    }
   ],
   "source": [
    "list(t.keys())[0]"
   ]
  },
  {
   "cell_type": "code",
   "execution_count": 61,
   "metadata": {},
   "outputs": [],
   "source": [
    "from typing import Dict\n",
    "def review_parser(review : Dict):\n",
    "    content = {}\n",
    "    for heading, body in review.items():\n",
    "\n",
    "        if heading == \"title\":\n",
    "            body = clean_text(body)\n",
    "\n",
    "        if heading == \"date\":\n",
    "            body = extract_date(body)\n",
    "\n",
    "        if heading == \"helpful_count\":\n",
    "            if body is not None:\n",
    "                body = extract_helpful_count(body.text)\n",
    "            else:\n",
    "                body = 0\n",
    "\n",
    "        if heading == \"rating\":\n",
    "            if body is not None:\n",
    "                body = extract_rating(body)\n",
    "            else:\n",
    "                body = 0.0\n",
    "\n",
    "        if heading == \"body\":\n",
    "            if body is not None:\n",
    "                body = clean_text(body.text)\n",
    "            else:\n",
    "                body = \"\"\n",
    "\n",
    "        if heading == \"images\":\n",
    "            if body is not None:\n",
    "                body = body.find_all(attrs={\"src\" : True})\n",
    "                image_urls = []\n",
    "                for img_tag in body:\n",
    "                    image_urls.append(img_tag[\"src\"])\n",
    "                body = image_urls\n",
    "        content[heading] = body\n",
    "        \n",
    "    return content"
   ]
  },
  {
   "cell_type": "code",
   "execution_count": 62,
   "metadata": {},
   "outputs": [
    {
     "data": {
      "text/plain": [
       "{'reviewer_id': 'AG4JRU3F4IDGGSK64CRQ6COQCFOA',\n",
       " 'name': 'GypsyRiver82',\n",
       " 'rating': '4.0 out of 5 stars',\n",
       " 'title': '\\nKids Edition is Great!\\n',\n",
       " 'date': 'Reviewed in the United States on May 24, 2020',\n",
       " 'helpful_count': <span class=\"a-size-base a-color-tertiary cr-vote-text\" data-hook=\"helpful-vote-statement\">43 people found this helpful</span>,\n",
       " 'body': <span class=\"a-size-base review-text review-text-content\" data-hook=\"review-body\">\n",
       " <span>\n",
       "   My son has a speech disorder.  Most of what he says can be understood but Alexa has trouble understanding him. Sometimes she will tell him \"Sorry I can't do that.\" Yet when I say it, she does fine. Other than that, he is enjoying his dot. Especially the routines and jokes. The bedtime routine I set is great. I even added an extra one in case he wakes up in the middle of the night and needs help going back to sleep. This is a learning experience for both of us. Books have been an issue.\n",
       " </span>\n",
       " </span>,\n",
       " 'images': <div class=\"review-image-tile-section\" data-reviewid=\"RJGCRGNYX9877\">\n",
       " <img alt=\"review image\" class=\"review-image-tile\" data-hook=\"review-image-tile\" height=\"88\" src=\"https://images-na.ssl-images-amazon.com/images/I/71E-BtB1CCL._SY88.jpg\" width=\"100%\"/><img alt=\"review image\" class=\"review-image-tile\" data-hook=\"review-image-tile\" height=\"88\" src=\"https://images-na.ssl-images-amazon.com/images/I/71Em7Dz0PTL._SY88.jpg\" width=\"100%\"/><img alt=\"review image\" class=\"review-image-tile\" data-hook=\"review-image-tile\" height=\"88\" src=\"https://images-na.ssl-images-amazon.com/images/I/71bIYYZ7KgL._SY88.jpg\" width=\"100%\"/><img alt=\"review image\" class=\"review-image-tile\" data-hook=\"review-image-tile\" height=\"88\" src=\"https://images-na.ssl-images-amazon.com/images/I/71o00NuCTFL._SY88.jpg\" width=\"100%\"/></div>}"
      ]
     },
     "execution_count": 62,
     "metadata": {},
     "output_type": "execute_result"
    }
   ],
   "source": [
    "reviews[1][4]"
   ]
  },
  {
   "cell_type": "code",
   "execution_count": 63,
   "metadata": {},
   "outputs": [
    {
     "data": {
      "text/plain": [
       "{'reviewer_id': 'AG4JRU3F4IDGGSK64CRQ6COQCFOA',\n",
       " 'name': 'GypsyRiver82',\n",
       " 'rating': 4.0,\n",
       " 'title': 'Kids Edition is Great!',\n",
       " 'date': 'May 24, 2020',\n",
       " 'helpful_count': 43,\n",
       " 'body': 'My son has a speech disorder. Most of what he says can be understood but Alexa has trouble understanding him. Sometimes she will tell him \"Sorry I can\\'t do that.\" Yet when I say it, she does fine. Other than that, he is enjoying his dot. Especially the routines and jokes. The bedtime routine I set is great. I even added an extra one in case he wakes up in the middle of the night and needs help going back to sleep. This is a learning experience for both of us. Books have been an issue.',\n",
       " 'images': ['https://images-na.ssl-images-amazon.com/images/I/71E-BtB1CCL._SY88.jpg',\n",
       "  'https://images-na.ssl-images-amazon.com/images/I/71Em7Dz0PTL._SY88.jpg',\n",
       "  'https://images-na.ssl-images-amazon.com/images/I/71bIYYZ7KgL._SY88.jpg',\n",
       "  'https://images-na.ssl-images-amazon.com/images/I/71o00NuCTFL._SY88.jpg']}"
      ]
     },
     "execution_count": 63,
     "metadata": {},
     "output_type": "execute_result"
    }
   ],
   "source": [
    "review_parser(reviews[1][4])"
   ]
  },
  {
   "cell_type": "code",
   "execution_count": 34,
   "metadata": {},
   "outputs": [
    {
     "ename": "AttributeError",
     "evalue": "'str' object has no attribute 'items'",
     "output_type": "error",
     "traceback": [
      "\u001b[1;31m---------------------------------------------------------------------------\u001b[0m",
      "\u001b[1;31mAttributeError\u001b[0m                            Traceback (most recent call last)",
      "\u001b[1;32m<ipython-input-34-f4d578c18095>\u001b[0m in \u001b[0;36m<module>\u001b[1;34m\u001b[0m\n\u001b[1;32m----> 1\u001b[1;33m \u001b[0mreview_parser\u001b[0m\u001b[1;33m(\u001b[0m\u001b[0mreviews\u001b[0m\u001b[1;33m[\u001b[0m\u001b[1;36m1\u001b[0m\u001b[1;33m]\u001b[0m\u001b[1;33m[\u001b[0m\u001b[1;34m\"AGTNOSUOA5IVU2BCKGPG3U2CCJ7A\"\u001b[0m\u001b[1;33m]\u001b[0m\u001b[1;33m)\u001b[0m\u001b[1;33m\u001b[0m\u001b[1;33m\u001b[0m\u001b[0m\n\u001b[0m",
      "\u001b[1;32m<ipython-input-32-7c710352106d>\u001b[0m in \u001b[0;36mreview_parser\u001b[1;34m(review)\u001b[0m\n\u001b[0;32m      5\u001b[0m     \u001b[0mcontent\u001b[0m\u001b[1;33m[\u001b[0m\u001b[1;34m\"reviewer_id\"\u001b[0m\u001b[1;33m]\u001b[0m \u001b[1;33m=\u001b[0m \u001b[0mreviewer_id\u001b[0m\u001b[1;33m\u001b[0m\u001b[1;33m\u001b[0m\u001b[0m\n\u001b[0;32m      6\u001b[0m     \u001b[0mreview\u001b[0m \u001b[1;33m=\u001b[0m \u001b[0mreview\u001b[0m\u001b[1;33m[\u001b[0m\u001b[0mreviewer_id\u001b[0m\u001b[1;33m]\u001b[0m\u001b[1;33m\u001b[0m\u001b[1;33m\u001b[0m\u001b[0m\n\u001b[1;32m----> 7\u001b[1;33m     \u001b[1;32mfor\u001b[0m \u001b[0mheading\u001b[0m\u001b[1;33m,\u001b[0m \u001b[0mbody\u001b[0m \u001b[1;32min\u001b[0m \u001b[0mreview\u001b[0m\u001b[1;33m.\u001b[0m\u001b[0mitems\u001b[0m\u001b[1;33m(\u001b[0m\u001b[1;33m)\u001b[0m\u001b[1;33m:\u001b[0m\u001b[1;33m\u001b[0m\u001b[1;33m\u001b[0m\u001b[0m\n\u001b[0m\u001b[0;32m      8\u001b[0m \u001b[1;33m\u001b[0m\u001b[0m\n\u001b[0;32m      9\u001b[0m         \u001b[1;32mif\u001b[0m \u001b[0mheading\u001b[0m \u001b[1;33m==\u001b[0m \u001b[1;34m\"title\"\u001b[0m\u001b[1;33m:\u001b[0m\u001b[1;33m\u001b[0m\u001b[1;33m\u001b[0m\u001b[0m\n",
      "\u001b[1;31mAttributeError\u001b[0m: 'str' object has no attribute 'items'"
     ]
    }
   ],
   "source": [
    "review_parser(reviews[1][\"AGTNOSUOA5IVU2BCKGPG3U2CCJ7A\"])"
   ]
  },
  {
   "cell_type": "code",
   "execution_count": 19,
   "metadata": {},
   "outputs": [],
   "source": [
    "from typing import Dict\n",
    "def parse_reviews(page_reviews : Dict):\n",
    "    \"\"\"Parse Amazon reviews.\"\"\"\n",
    "    parsed_reviews = []\n",
    "    for reviewer_id, review in page_reviews.items(): \n",
    "        content = {}\n",
    "        content[\"reviewer_id\"] = reviewer_id\n",
    "        for heading, body in review.items():\n",
    "            \n",
    "            if heading == \"title\":\n",
    "                body = clean_text(body)\n",
    "                \n",
    "            if heading == \"date\":\n",
    "                body = extract_date(body)\n",
    "            \n",
    "            if heading == \"helpful_count\":\n",
    "                if body is not None:\n",
    "                    body = extract_helpful_count(body.text)\n",
    "                else:\n",
    "                    body = 0\n",
    "                    \n",
    "            if heading == \"rating\":\n",
    "                if body is not None:\n",
    "                    body = extract_rating(body)\n",
    "                else:\n",
    "                    body = 0.0\n",
    "                    \n",
    "            if heading == \"body\":\n",
    "                if body is not None:\n",
    "                    body = clean_text(body.text)\n",
    "                else:\n",
    "                    body = \"\"\n",
    "                    \n",
    "            if heading == \"images\":\n",
    "                if body is not None:\n",
    "                    body = body.find_all(name=\"src\")\n",
    "                    \n",
    "            content[heading] = body\n",
    "        parsed_reviews.append(content)\n",
    "    return parsed_reviews"
   ]
  },
  {
   "cell_type": "code",
   "execution_count": 24,
   "metadata": {},
   "outputs": [
    {
     "data": {
      "text/plain": [
       "{'AGTNOSUOA5IVU2BCKGPG3U2CCJ7A': {'name': 'Bill B.',\n",
       "  'rating': '2.0 out of 5 stars',\n",
       "  'title': '\\nNot ready for prime time\\n',\n",
       "  'date': 'Reviewed in the United States on November 12, 2019',\n",
       "  'helpful_count': <span class=\"a-size-base a-color-tertiary cr-vote-text\" data-hook=\"helpful-vote-statement\">298 people found this helpful</span>,\n",
       "  'body': <span class=\"a-size-base review-text review-text-content\" data-hook=\"review-body\">\n",
       "  <span>\n",
       "    This is the epitome of a good idea marred by poor execution. A lot of the stock skills (Disney Stories, for instance, which is a large part of why I bought the thing) are clunky or glitchy, and have tons of bugs. It doesn't handle errors gracefully- and leaves me in the position of trying to explain a software bug to a 4 year old who doesn't understand and just wants a Puppy Dog Pals story before bed.<br/><br/>I can't switch profiles and use FreeTime with another profile. The end result is that every time my kids ask it to play music, it cuts off my Spotify, which is hindering my ability to listen at work. On top of that, if they don't specify the song, it has some pretty weird choices for kids' music- most notable recently is \"Emotion\" by the Bee Gees.<br/><br/>It's as strict as a regular Alexa at interpreting commands- \"Read me Disney Stories\" gets you the Disney Stories skill, but \"Read me a Disney story\" gets you the Disney Wikipedia entry read to you- and this isn't really ideal for children.<br/><br/>Perhaps worst of all, the parental controls over skills is pretty spotty. For instance, it lets my kids control our Nest thermostat even in FreeTime, which is unfortunate because I accidentally let them overhear me doing it recently and all it took was one time hearing the command for them to start messing with the temperature. It lets them control our Master Bedroom lights from their room. It also lets them randomly drop in on other Echoes- awkward when Mommy and Daddy are enjoying some \"alone time\" or when Great Grandma can't figure out why she can hear them coming from her device.<br/><br/>And you don't even want to hear about the time the trigger word was randomly changed on its own. That took thirty agonizing minutes of crying toddler tantrum to figure out (and I suspect I got it faster than most- I do software troubleshooting for a living!)<br/><br/>Honestly, the best I can say is that the year of FreeTime that comes with it is nice- but in the end I wish I had not bought it. Now getting rid of it would feel like a punishment to them, so the tranquility of my home for the foreseeable future is at the dubious mercy of underpaid and overworked Amazon developers...<br/><br/>Alexa, play Despacito.\n",
       "  </span>\n",
       "  </span>,\n",
       "  'images': None},\n",
       " 'AGE374FAUCXYWLL5CNK3VXJ2RYNQ': {'name': 'infinitytome',\n",
       "  'rating': '5.0 out of 5 stars',\n",
       "  'title': '\\nMakes my life so much easier\\n',\n",
       "  'date': 'Reviewed in the United States on February 12, 2020',\n",
       "  'helpful_count': <span class=\"a-size-base a-color-tertiary cr-vote-text\" data-hook=\"helpful-vote-statement\">214 people found this helpful</span>,\n",
       "  'body': <span class=\"a-size-base review-text review-text-content\" data-hook=\"review-body\">\n",
       "  <span>\n",
       "    I'm a college student who got this echo dot to help with my disability. I got the rainbow color and just declined to activate the free time feature, making it a regular dot instead of a kids dot. Without the echo dot, I would struggle to wake up, go outside without proper seasonal clothing, and forget to take my medications - a lot. It is really difficult for me to self-regulate anything normal from eating to sleeping to whatever.<br/><br/>Accessibility: Alexa wakes me up with an alarm and then five to ten minutes later starts telling me one short happy news story, the weather, and some other things in my routine. She will alert me about 15 minutes before I need to leave for class or work and remind me to take my medication, tell me the weather (so I can wear a coat or get an umbrella if necessary), and then give me the traffic situation to my current destination. I can ask Alexa the time, for her to set timers, and a lot of other things. If I had to manually do these things instead of speaking out loud, they probably would not happen.<br/><br/>The sound quality is amazing, just utterly wonderful. I will play music and it sounds better on the echo dot than it does on my nice portable speakers. It's really clear, I don't really know another way to describe it.<br/><br/>TL;DR The echo dot has not only made me happy, it has improved my quality of life and helped me to self-regulate more than I could before.\n",
       "  </span>\n",
       "  </span>,\n",
       "  'images': None},\n",
       " 'AENFKAELE4CDMJSZ7BFFSTODL3YQ': {'name': 'K. Hudson',\n",
       "  'rating': '2.0 out of 5 stars',\n",
       "  'title': '\\nAggravating\\n',\n",
       "  'date': 'Reviewed in the United States on January 29, 2020',\n",
       "  'helpful_count': <span class=\"a-size-base a-color-tertiary cr-vote-text\" data-hook=\"helpful-vote-statement\">130 people found this helpful</span>,\n",
       "  'body': <span class=\"a-size-base review-text review-text-content\" data-hook=\"review-body\">\n",
       "  <span>\n",
       "    So.  For young kids, it's okay.  My boys are both under the age of ten, so they still have low expectations and are easily entertained by this product.<br/><br/>The unfortunate thing is that you have to be ultra specific when using commands - and even then, the Alexa AI struggles.  For example, if you say, \"Read me a story\", the Echo Dot will randomly open a book from Audible.  And it won't select a new story until it's done reading that book.  Let's say that book is something like 365 days of Alphabet Rhymes.  Just imagine the torture.  I watched my kids repeatedly command their Echo to \"Stop!  Read a different story.\"  Guess what?  The device picked where it had left off each time.  This went on until I stepped in and tried to stop the never-ending alphabet rampage.  Took a couple tries, but we finally found out that the key command to use is \"Cancel.\"  And after some troubleshooting, we found out that the command \"Alexa, TELL me a story\" has better results in that the AI will list a small selection of short stories for the young audience to choose from.<br/><br/>The Freetime thing seemed like a good idea.  The Alexa AI alluringly suggested that we could request specific character stories by saying things like, \"Alexa, read Cars 2.\"  Haha-ha...ha.  Nope.  If you request that, Alexa says, \"Sorry, I can't find anything on Cars 2/Frozen/Toy Story/etc.\"  So the only way my kids can get the AI to read the story they want is by asking \"Alexa, tell me a story\" (and even then, it'll only list a few at a time, so the boys have to repeat this process several times before finally hitting on the story they wanted.<br/><br/>We have books that we purchased on Audible, and Alexa lists those books when we ask it \"What Audible books do we have?\"  Unfortunately, if we ask it to read one of our Audible books, the AI acts as if it can't find the book...ya know, the one it literally JUST LISTED.  And in case anyone is wondering, yes, I have opened the parental permissions and marked our Audible books as accessible for the Echo Dot Kids Edition.  Permissions be damned, I guess.  Alexa only reads what it wants.<br/><br/>Don't even get me started on music.  You can ask Alexa to play genres, like \"Alexa, play classical music.\"  The AI will oblige.  However, if you ask for specific artists (that are available for Amazon Prime members), Alexa will somehow not find the artist.  It's very similar to the \"read a story\" conundrum.  The AI suggests that you can listen to your favorite artists, then it claims it can't find them.<br/><br/>Pros:<br/>This makes a good, two-way intercom for announcing that it's dinner time, bath time, bedtime, etc.<br/><br/>This Ech Dot also works great as a speaker through which you can play your music or audio books - so long as you open the Alexa app from your phone and enter the commands on the app to play the desired media on the Echo Dot device.  Again, the Echo Dot itself has been playing dumb, so our attempts to directly request that the desired media play on Echo Dot have not worked.  The Alexa app on my phone functions though.<br/><br/>Upon request, this Echo Dot will amuse your child with a selection of repetitive and lame jokes.  Fine for early grade school, but I imagine the novelty will wear off soon.<br/><br/>One thing that I appreciate is the way Echo Dot Kids Edition handles sensitive questions.  Since this device was going to be used by my children, I tested it by asking a wide range of awkward questions, from \"What's the difference between boys and girls?\" to \"Who is Hitler?\" to \"Is there a God?\" to \"How are babies made?\"  For sensitive questions like these, the AI will gently suggest that the child speak to their parents or guardians.<br/><br/>All in all, it's a glorified smart speaker that you can control from your phone, with very limited interactive features.  And Freetime is basically useless for the most part, because requesting specific media typically ends in the statement \"Sorry, I can find that.\"<br/><br/>I recommend only getting this if you are looking for something to entertain a young gradeschooler while you are studying or working from home.\n",
       "  </span>\n",
       "  </span>,\n",
       "  'images': None},\n",
       " 'AH4BAWOKRKS2OTC5VNJQRK3R5JTA': {'name': 'Eddie G',\n",
       "  'rating': '2.0 out of 5 stars',\n",
       "  'title': '\\nGreat as stand-alone, poor for familes\\n',\n",
       "  'date': 'Reviewed in the United States on January 3, 2020',\n",
       "  'helpful_count': <span class=\"a-size-base a-color-tertiary cr-vote-text\" data-hook=\"helpful-vote-statement\">52 people found this helpful</span>,\n",
       "  'body': <span class=\"a-size-base review-text review-text-content\" data-hook=\"review-body\">\n",
       "  <span>\n",
       "    Amazon's software engineers have clearly not considered family or multi-person households when designing the software for this device. I have spent close to 10 hours trying to fix what should have been a basic trouble-shooting matter: we have two kids on two kids echos. Each dot is registered to a different kid. Each kid has a Spotify account. It took forever to figure out how to have each Echo play different songs at the same time. Note: I wasn't trying to figure this out on my own, this was with the help of Amazon support both online and over the phone. 10 HOURS! And it still isn't at 100%--the Alexa app on my phone still says things that are not consistent with what is happening in each Echo Dot.<br/><br/>Look, I understand this kind of thing is complicated to design. But, come on. Amazon is clearly pricing the Dots so that there can be multiple dots in a household. And there is usually more than one person per household. How could they not have considered \"musical multitasking\" in their testing?\n",
       "  </span>\n",
       "  </span>,\n",
       "  'images': None},\n",
       " 'AG4JRU3F4IDGGSK64CRQ6COQCFOA': {'name': 'GypsyRiver82',\n",
       "  'rating': '4.0 out of 5 stars',\n",
       "  'title': '\\nKids Edition is Great!\\n',\n",
       "  'date': 'Reviewed in the United States on May 24, 2020',\n",
       "  'helpful_count': <span class=\"a-size-base a-color-tertiary cr-vote-text\" data-hook=\"helpful-vote-statement\">43 people found this helpful</span>,\n",
       "  'body': <span class=\"a-size-base review-text review-text-content\" data-hook=\"review-body\">\n",
       "  <span>\n",
       "    My son has a speech disorder.  Most of what he says can be understood but Alexa has trouble understanding him. Sometimes she will tell him \"Sorry I can't do that.\" Yet when I say it, she does fine. Other than that, he is enjoying his dot. Especially the routines and jokes. The bedtime routine I set is great. I even added an extra one in case he wakes up in the middle of the night and needs help going back to sleep. This is a learning experience for both of us. Books have been an issue.\n",
       "  </span>\n",
       "  </span>,\n",
       "  'images': <div class=\"review-image-tile-section\" data-reviewid=\"RJGCRGNYX9877\">\n",
       "  <img alt=\"review image\" class=\"review-image-tile\" data-hook=\"review-image-tile\" height=\"88\" src=\"https://images-na.ssl-images-amazon.com/images/I/71E-BtB1CCL._SY88.jpg\" width=\"100%\"/><img alt=\"review image\" class=\"review-image-tile\" data-hook=\"review-image-tile\" height=\"88\" src=\"https://images-na.ssl-images-amazon.com/images/I/71Em7Dz0PTL._SY88.jpg\" width=\"100%\"/><img alt=\"review image\" class=\"review-image-tile\" data-hook=\"review-image-tile\" height=\"88\" src=\"https://images-na.ssl-images-amazon.com/images/I/71bIYYZ7KgL._SY88.jpg\" width=\"100%\"/><img alt=\"review image\" class=\"review-image-tile\" data-hook=\"review-image-tile\" height=\"88\" src=\"https://images-na.ssl-images-amazon.com/images/I/71o00NuCTFL._SY88.jpg\" width=\"100%\"/></div>},\n",
       " 'AHVXUUYXMQOK46DTM7LBLBE6YPKQ': {'name': 'Sarah',\n",
       "  'rating': '5.0 out of 5 stars',\n",
       "  'title': '\\nAbsolutely perfect for my 3.5 year old- it actually understands him!\\n',\n",
       "  'date': 'Reviewed in the United States on June 15, 2020',\n",
       "  'helpful_count': <span class=\"a-size-base a-color-tertiary cr-vote-text\" data-hook=\"helpful-vote-statement\">35 people found this helpful</span>,\n",
       "  'body': <span class=\"a-size-base review-text review-text-content\" data-hook=\"review-body\">\n",
       "  <span>\n",
       "    I went back and forth a thousand times between the regular echo dot and the kids version, and I'm so glad we went with the kids version for my 3 year old! Anyone with a toddler or younger child will agree, most times Alexa doesn't understand what the heck they're saying. This one understands my son so much better than any other Alexa device we own! Within minutes of hooking it up, he was asking questions about sounds that animals make, how to say words in Spanish, played a game with it and put music on, all by himself. It's a lifesaver as a single mom, stuck home during the pandemic with a toddler! He spent a solid 3 hours playing in his room independently, listening to music while looking at books, asking questions while playing with his blocks, etc. Anything that helps my kid play independently right now is worth its weight in GOLD! The sound quality is fantastic as well, and we love Freetime, so it was a real no brainer in the end.\n",
       "  </span>\n",
       "  </span>,\n",
       "  'images': None},\n",
       " 'AGDF2NUI7L5VWP74MQPSW6CD7NAQ': {'name': 'Nuriel',\n",
       "  'rating': '5.0 out of 5 stars',\n",
       "  'title': '\\nMom and Daughter approved\\n',\n",
       "  'date': 'Reviewed in the United States on March 12, 2020',\n",
       "  'helpful_count': <span class=\"a-size-base a-color-tertiary cr-vote-text\" data-hook=\"helpful-vote-statement\">24 people found this helpful</span>,\n",
       "  'body': <span class=\"a-size-base review-text review-text-content\" data-hook=\"review-body\">\n",
       "  <span>\n",
       "    I bought this at my local Bestbuy store but oddly enough, amazon is now asking me to review it so here I am.<br/>Echo dot for kids is amazing. Sound quality is perfect. Recognizes any voice. My daughter will say “Alexa, play (sings random words in the correct right tunes)” and Alexa plays the right song for her. I was amazed.<br/>You can set up multiple alarms, cancel one or multiple alarms, set up alarms for weekends only, weekdays, etc.<br/>you can ask her to play a lullaby or read a story.<br/>No explicit songs or songs with curses are allowed either. Example: truth hurts by lilo is not allowable to be played on this echo for kids.<br/>They’re not allowed to order anything on amazon.<br/><br/>The only problem we get is sometimes, it gets disconnected from our WiFi and I have to go back to the app to reset things. And you’ll know if this happens. Alexa will tell you. My daughter came up to me and said, “Mom, Alexa said she cannot connect to the internet. You need to fix her.”<br/><br/>Overall, my daughter likes using it. Although she doesn’t use it all the time, she still likes it.\n",
       "  </span>\n",
       "  </span>,\n",
       "  'images': None},\n",
       " 'AEJOYWAZV4HIXCKO67XDDF6G46JA': {'name': 'EMOlson',\n",
       "  'rating': '1.0 out of 5 stars',\n",
       "  'title': '\\nUNABLE TO SETUP - USELESS\\n',\n",
       "  'date': 'Reviewed in the United States on November 21, 2019',\n",
       "  'helpful_count': <span class=\"a-size-base a-color-tertiary cr-vote-text\" data-hook=\"helpful-vote-statement\">23 people found this helpful</span>,\n",
       "  'body': <span class=\"a-size-base review-text review-text-content\" data-hook=\"review-body\">\n",
       "  <span>\n",
       "    Doesn't work for me on Samsung Galaxy S8 phone using T-mobile...  DO NOT BUY IF YOU HAVE THIS COMBO!!!!<br/><br/>Went through the set-up multiple times. Each time I completed it, the App then directs you to enable the Free One Year subscription of FreeTime Unlimited. Each time I go through those steps and it asked to verify with a OTP (one time password) text and the text does not arrive. I prompted to re-send multiple times and nothing.  When you kill the FreeTime setup the DOT setup is canceled.  The DOT will not respond.<br/><br/>I called amazon tech support.  He asked me to confirm that the Alexa App has permission to send receive notifications. (I had already checked that but he made me re-check). Then he tells me I have to re-boot my phone. A convenient way to get rid of me. The second guy was useless. The third guy told me there was no reason to reboot. He tried to send me a text manually and it did not arrive. This tech told me there is a known issue with T-mobile blocking Amazon's texts. They recommended I call Tmobile.<br/><br/>Well, I spent 30 minutes on the phone with T-mobile tech support. They turned off all the anti-spam filters that try and reduce all those Chinese spam calls and texts and guess what? ... it didn't work. IT STILL DOESN'T WORK.<br/><br/>Roughly 1 out of 5 mobile phones in the US are T-mobile. You would think that Amazon would 1) set up their verification systems to be compatible, and 2) configure the set-up on these devices so that it is not 100% dependent upon a verification process tied to something completely separate.\n",
       "  </span>\n",
       "  </span>,\n",
       "  'images': None},\n",
       " 'AHJJYMSQHFK2SCRGVUMLPY63SBTA': {'name': 'Marilynn Delgadillo',\n",
       "  'rating': '1.0 out of 5 stars',\n",
       "  'title': \"\\nDon't write reviews until you see how it lasts\\n\",\n",
       "  'date': 'Reviewed in the United States on May 7, 2020',\n",
       "  'helpful_count': <span class=\"a-size-base a-color-tertiary cr-vote-text\" data-hook=\"helpful-vote-statement\">13 people found this helpful</span>,\n",
       "  'body': <span class=\"a-size-base review-text review-text-content\" data-hook=\"review-body\">\n",
       "  <span>\n",
       "    I purchased echo dots (kid's version) for two of my children for Christmas.  They absolutely loved it!  There wasn't a thing bad to say.  A while later, however, my daughter discovered bunches of music most careful mothers would oppose to.  I deleted them from her playlist and had a discussion about this.  Her older brother and older sister also had serious discussions.  Not long after, the songs were back on her playlist and she no longer could have the Echo.  And so, my first offense to the echo was birthed.<br/>On my youngest's birthday in March, he was given an echo of his own because he was a bit envious of his older siblings.  All the perks of music and games Alexa style now at his command!  Unfortunately, it took him less than a month to order Amazon Music without my permission.  Since we already had a discussion about declining Alexa's generous (and frequent) offer to purchase a subscription of any kind, he had to lose his echo as well.  Another Echo hiccup.<br/>Our final towel was thrown in when my teenage son's Echo kept automatically disconnecting from service.  Customer service at echo support was not able to resolve this issue.  I deleted the amazon app and tried to reset the whole system.  Nothing worked.<br/>We had other troubles as well, like poor quality sound occasionally and static, random pauses, times she's \"having trouble connecting to the internet\", can't listen to podcasts because the explicit filter is on (never mind that my teenage son can listen to stand up comedy without her complaining), and \"something went wrong\" excuses.  We were willing to put those troubles behind us until the last straw made my son's completely unusable.<br/>Thank you for hanging in and reading my review!  I know it was long....\n",
       "  </span>\n",
       "  </span>,\n",
       "  'images': None},\n",
       " 'AEOLUFFPN4K7RE4LKQ6F6T3IJEFQ': {'name': 'Marjorie L.',\n",
       "  'rating': '1.0 out of 5 stars',\n",
       "  'title': '\\nRegular echo dot more worth it\\n',\n",
       "  'date': 'Reviewed in the United States on July 29, 2020',\n",
       "  'helpful_count': <span class=\"a-size-base a-color-tertiary cr-vote-text\" data-hook=\"helpful-vote-statement\">8 people found this helpful</span>,\n",
       "  'body': <span class=\"a-size-base review-text review-text-content\" data-hook=\"review-body\">\n",
       "  <span>\n",
       "    If you're trying to decide between the Echo Dot and Echo Dot Kids, go for the dot. Long story short, Echo Dot shares many of the same features (e.g., parental controls, access to iHeartRadio, explicit filter, regular FreeTime, routines setup) as the Kid's version minus the frustration.<br/><br/>Here's why: I bought this along with the Echo Glow for $10 because at the time, it seemed like a better price to pay than the Echo Dot and Glow separately for my toddler. I thought this device would also be more useful with the 1 year of FreeTime Unlimited but it's really all about the marketing, in my opinion. Now, FreeTime is actually a nice app for older children, maybe 4 and up. I think Unlimited is a bunch of fluff. Seriously, if parental controls are what you need, then kids don't need to be playing with Alexa that much anyway and you can have parental controls set up on a regular Echo Dot with regular FreeTime.<br/><br/>So, here's where the Kid's version gets super frustrating. (Open rant). My 20 month old absolutely LOVES \"Baa Baa Black Sheep\". She even tries to ask Alexa to play it but her enunciation skills aren't quite there yet. Anyway, I bought the kid's version thinking it could play some songs from Amazon Music. Not even. I have to ask Alexa to sing \"Baa Baa Black Sheep\" because it says it can't play the song. So, I ask for bedtime wind-down music or whatever it's called and it'll play some rap music from an iHeartRadio station. I can't even open Amazon Music even with the explicit filter on. What good is any kind of Echo Dot without Amazon Music? I just want one song. One kid's song. Is that so much to ask?<br/><br/>Another gripe: This version is quite verbose. Sure, I'd love for it to tell bedtime stories and play games and grow with my kid but if I can do this with a regular Echo Dot then I'll use the existing regular device I already have. I get that Alexa has to learn over time but this one just can't seem to stop nattering after I ask it to stop. I don't want suggestions. I vaguely recall turning off follow-up, a feature that would prevent me from having to repeat \"Alexa\" over and over again. I thought this kid's version was extra special but it's not. It's a headache, if anything.<br/><br/>Echo Dot vs. Echo Dot Kid's verdict: Buy the regular Echo Dot!<br/><br/>I got the sandstone colored Echo Dot on sale recently with the $0.99 + $15 Amazon Music Unlimited and that's already saved me a headache. I finally got it to play the one song my kid can't get enough of. I'm still going to keep the Echo Glow because I'm happy with it. Despite having to factory reset the Echo Dot Kids, my routines under the Echo Glow still remained the same because nothing changed in the Alexa app that I used to set it up.<br/><br/>Goodbye Echo Dot Kids, you are too overpriced for your blue and rainbow colors!\n",
       "  </span>\n",
       "  </span>,\n",
       "  'images': None}}"
      ]
     },
     "execution_count": 24,
     "metadata": {},
     "output_type": "execute_result"
    }
   ],
   "source": [
    "reviews[1]"
   ]
  },
  {
   "cell_type": "code",
   "execution_count": 20,
   "metadata": {},
   "outputs": [
    {
     "data": {
      "text/plain": [
       "[{'reviewer_id': 'AGTNOSUOA5IVU2BCKGPG3U2CCJ7A',\n",
       "  'name': 'Bill B.',\n",
       "  'rating': 2.0,\n",
       "  'title': 'Not ready for prime time',\n",
       "  'date': 'November 12, 2019',\n",
       "  'helpful_count': 298,\n",
       "  'body': 'This is the epitome of a good idea marred by poor execution. A lot of the stock skills (Disney Stories, for instance, which is a large part of why I bought the thing) are clunky or glitchy, and have tons of bugs. It doesn\\'t handle errors gracefully- and leaves me in the position of trying to explain a software bug to a 4 year old who doesn\\'t understand and just wants a Puppy Dog Pals story before bed.I can\\'t switch profiles and use FreeTime with another profile. The end result is that every time my kids ask it to play music, it cuts off my Spotify, which is hindering my ability to listen at work. On top of that, if they don\\'t specify the song, it has some pretty weird choices for kids\\' music- most notable recently is \"Emotion\" by the Bee Gees.It\\'s as strict as a regular Alexa at interpreting commands- \"Read me Disney Stories\" gets you the Disney Stories skill, but \"Read me a Disney story\" gets you the Disney Wikipedia entry read to you- and this isn\\'t really ideal for children.Perhaps worst of all, the parental controls over skills is pretty spotty. For instance, it lets my kids control our Nest thermostat even in FreeTime, which is unfortunate because I accidentally let them overhear me doing it recently and all it took was one time hearing the command for them to start messing with the temperature. It lets them control our Master Bedroom lights from their room. It also lets them randomly drop in on other Echoes- awkward when Mommy and Daddy are enjoying some \"alone time\" or when Great Grandma can\\'t figure out why she can hear them coming from her device.And you don\\'t even want to hear about the time the trigger word was randomly changed on its own. That took thirty agonizing minutes of crying toddler tantrum to figure out (and I suspect I got it faster than most- I do software troubleshooting for a living!)Honestly, the best I can say is that the year of FreeTime that comes with it is nice- but in the end I wish I had not bought it. Now getting rid of it would feel like a punishment to them, so the tranquility of my home for the foreseeable future is at the dubious mercy of underpaid and overworked Amazon developers...Alexa, play Despacito.',\n",
       "  'images': None},\n",
       " {'reviewer_id': 'AGE374FAUCXYWLL5CNK3VXJ2RYNQ',\n",
       "  'name': 'infinitytome',\n",
       "  'rating': 5.0,\n",
       "  'title': 'Makes my life so much easier',\n",
       "  'date': 'February 12, 2020',\n",
       "  'helpful_count': 214,\n",
       "  'body': \"I'm a college student who got this echo dot to help with my disability. I got the rainbow color and just declined to activate the free time feature, making it a regular dot instead of a kids dot. Without the echo dot, I would struggle to wake up, go outside without proper seasonal clothing, and forget to take my medications - a lot. It is really difficult for me to self-regulate anything normal from eating to sleeping to whatever.Accessibility: Alexa wakes me up with an alarm and then five to ten minutes later starts telling me one short happy news story, the weather, and some other things in my routine. She will alert me about 15 minutes before I need to leave for class or work and remind me to take my medication, tell me the weather (so I can wear a coat or get an umbrella if necessary), and then give me the traffic situation to my current destination. I can ask Alexa the time, for her to set timers, and a lot of other things. If I had to manually do these things instead of speaking out loud, they probably would not happen.The sound quality is amazing, just utterly wonderful. I will play music and it sounds better on the echo dot than it does on my nice portable speakers. It's really clear, I don't really know another way to describe it.TL;DR The echo dot has not only made me happy, it has improved my quality of life and helped me to self-regulate more than I could before.\",\n",
       "  'images': None},\n",
       " {'reviewer_id': 'AENFKAELE4CDMJSZ7BFFSTODL3YQ',\n",
       "  'name': 'K. Hudson',\n",
       "  'rating': 2.0,\n",
       "  'title': 'Aggravating',\n",
       "  'date': 'January 29, 2020',\n",
       "  'helpful_count': 130,\n",
       "  'body': 'So. For young kids, it\\'s okay. My boys are both under the age of ten, so they still have low expectations and are easily entertained by this product.The unfortunate thing is that you have to be ultra specific when using commands - and even then, the Alexa AI struggles. For example, if you say, \"Read me a story\", the Echo Dot will randomly open a book from Audible. And it won\\'t select a new story until it\\'s done reading that book. Let\\'s say that book is something like 365 days of Alphabet Rhymes. Just imagine the torture. I watched my kids repeatedly command their Echo to \"Stop! Read a different story.\" Guess what? The device picked where it had left off each time. This went on until I stepped in and tried to stop the never-ending alphabet rampage. Took a couple tries, but we finally found out that the key command to use is \"Cancel.\" And after some troubleshooting, we found out that the command \"Alexa, TELL me a story\" has better results in that the AI will list a small selection of short stories for the young audience to choose from.The Freetime thing seemed like a good idea. The Alexa AI alluringly suggested that we could request specific character stories by saying things like, \"Alexa, read Cars 2.\" Haha-ha...ha. Nope. If you request that, Alexa says, \"Sorry, I can\\'t find anything on Cars 2/Frozen/Toy Story/etc.\" So the only way my kids can get the AI to read the story they want is by asking \"Alexa, tell me a story\" (and even then, it\\'ll only list a few at a time, so the boys have to repeat this process several times before finally hitting on the story they wanted.We have books that we purchased on Audible, and Alexa lists those books when we ask it \"What Audible books do we have?\" Unfortunately, if we ask it to read one of our Audible books, the AI acts as if it can\\'t find the book...ya know, the one it literally JUST LISTED. And in case anyone is wondering, yes, I have opened the parental permissions and marked our Audible books as accessible for the Echo Dot Kids Edition. Permissions be damned, I guess. Alexa only reads what it wants.Don\\'t even get me started on music. You can ask Alexa to play genres, like \"Alexa, play classical music.\" The AI will oblige. However, if you ask for specific artists (that are available for Amazon Prime members), Alexa will somehow not find the artist. It\\'s very similar to the \"read a story\" conundrum. The AI suggests that you can listen to your favorite artists, then it claims it can\\'t find them.Pros:This makes a good, two-way intercom for announcing that it\\'s dinner time, bath time, bedtime, etc.This Ech Dot also works great as a speaker through which you can play your music or audio books - so long as you open the Alexa app from your phone and enter the commands on the app to play the desired media on the Echo Dot device. Again, the Echo Dot itself has been playing dumb, so our attempts to directly request that the desired media play on Echo Dot have not worked. The Alexa app on my phone functions though.Upon request, this Echo Dot will amuse your child with a selection of repetitive and lame jokes. Fine for early grade school, but I imagine the novelty will wear off soon.One thing that I appreciate is the way Echo Dot Kids Edition handles sensitive questions. Since this device was going to be used by my children, I tested it by asking a wide range of awkward questions, from \"What\\'s the difference between boys and girls?\" to \"Who is Hitler?\" to \"Is there a God?\" to \"How are babies made?\" For sensitive questions like these, the AI will gently suggest that the child speak to their parents or guardians.All in all, it\\'s a glorified smart speaker that you can control from your phone, with very limited interactive features. And Freetime is basically useless for the most part, because requesting specific media typically ends in the statement \"Sorry, I can find that.\"I recommend only getting this if you are looking for something to entertain a young gradeschooler while you are studying or working from home.',\n",
       "  'images': None},\n",
       " {'reviewer_id': 'AH4BAWOKRKS2OTC5VNJQRK3R5JTA',\n",
       "  'name': 'Eddie G',\n",
       "  'rating': 2.0,\n",
       "  'title': 'Great as stand-alone, poor for familes',\n",
       "  'date': 'January 3, 2020',\n",
       "  'helpful_count': 52,\n",
       "  'body': 'Amazon\\'s software engineers have clearly not considered family or multi-person households when designing the software for this device. I have spent close to 10 hours trying to fix what should have been a basic trouble-shooting matter: we have two kids on two kids echos. Each dot is registered to a different kid. Each kid has a Spotify account. It took forever to figure out how to have each Echo play different songs at the same time. Note: I wasn\\'t trying to figure this out on my own, this was with the help of Amazon support both online and over the phone. 10 HOURS! And it still isn\\'t at 100%--the Alexa app on my phone still says things that are not consistent with what is happening in each Echo Dot.Look, I understand this kind of thing is complicated to design. But, come on. Amazon is clearly pricing the Dots so that there can be multiple dots in a household. And there is usually more than one person per household. How could they not have considered \"musical multitasking\" in their testing?',\n",
       "  'images': None},\n",
       " {'reviewer_id': 'AG4JRU3F4IDGGSK64CRQ6COQCFOA',\n",
       "  'name': 'GypsyRiver82',\n",
       "  'rating': 4.0,\n",
       "  'title': 'Kids Edition is Great!',\n",
       "  'date': 'May 24, 2020',\n",
       "  'helpful_count': 43,\n",
       "  'body': 'My son has a speech disorder. Most of what he says can be understood but Alexa has trouble understanding him. Sometimes she will tell him \"Sorry I can\\'t do that.\" Yet when I say it, she does fine. Other than that, he is enjoying his dot. Especially the routines and jokes. The bedtime routine I set is great. I even added an extra one in case he wakes up in the middle of the night and needs help going back to sleep. This is a learning experience for both of us. Books have been an issue.',\n",
       "  'images': []},\n",
       " {'reviewer_id': 'AHVXUUYXMQOK46DTM7LBLBE6YPKQ',\n",
       "  'name': 'Sarah',\n",
       "  'rating': 5.0,\n",
       "  'title': 'Absolutely perfect for my 3.5 year old- it actually understands him!',\n",
       "  'date': 'June 15, 2020',\n",
       "  'helpful_count': 35,\n",
       "  'body': \"I went back and forth a thousand times between the regular echo dot and the kids version, and I'm so glad we went with the kids version for my 3 year old! Anyone with a toddler or younger child will agree, most times Alexa doesn't understand what the heck they're saying. This one understands my son so much better than any other Alexa device we own! Within minutes of hooking it up, he was asking questions about sounds that animals make, how to say words in Spanish, played a game with it and put music on, all by himself. It's a lifesaver as a single mom, stuck home during the pandemic with a toddler! He spent a solid 3 hours playing in his room independently, listening to music while looking at books, asking questions while playing with his blocks, etc. Anything that helps my kid play independently right now is worth its weight in GOLD! The sound quality is fantastic as well, and we love Freetime, so it was a real no brainer in the end.\",\n",
       "  'images': None},\n",
       " {'reviewer_id': 'AGDF2NUI7L5VWP74MQPSW6CD7NAQ',\n",
       "  'name': 'Nuriel',\n",
       "  'rating': 5.0,\n",
       "  'title': 'Mom and Daughter approved',\n",
       "  'date': 'March 12, 2020',\n",
       "  'helpful_count': 24,\n",
       "  'body': 'I bought this at my local Bestbuy store but oddly enough, amazon is now asking me to review it so here I am.Echo dot for kids is amazing. Sound quality is perfect. Recognizes any voice. My daughter will say “Alexa, play (sings random words in the correct right tunes)” and Alexa plays the right song for her. I was amazed.You can set up multiple alarms, cancel one or multiple alarms, set up alarms for weekends only, weekdays, etc.you can ask her to play a lullaby or read a story.No explicit songs or songs with curses are allowed either. Example: truth hurts by lilo is not allowable to be played on this echo for kids.They’re not allowed to order anything on amazon.The only problem we get is sometimes, it gets disconnected from our WiFi and I have to go back to the app to reset things. And you’ll know if this happens. Alexa will tell you. My daughter came up to me and said, “Mom, Alexa said she cannot connect to the internet. You need to fix her.”Overall, my daughter likes using it. Although she doesn’t use it all the time, she still likes it.',\n",
       "  'images': None},\n",
       " {'reviewer_id': 'AEJOYWAZV4HIXCKO67XDDF6G46JA',\n",
       "  'name': 'EMOlson',\n",
       "  'rating': 1.0,\n",
       "  'title': 'UNABLE TO SETUP - USELESS',\n",
       "  'date': 'November 21, 2019',\n",
       "  'helpful_count': 23,\n",
       "  'body': \"Doesn't work for me on Samsung Galaxy S8 phone using T-mobile... DO NOT BUY IF YOU HAVE THIS COMBO!!!!Went through the set-up multiple times. Each time I completed it, the App then directs you to enable the Free One Year subscription of FreeTime Unlimited. Each time I go through those steps and it asked to verify with a OTP (one time password) text and the text does not arrive. I prompted to re-send multiple times and nothing. When you kill the FreeTime setup the DOT setup is canceled. The DOT will not respond.I called amazon tech support. He asked me to confirm that the Alexa App has permission to send receive notifications. (I had already checked that but he made me re-check). Then he tells me I have to re-boot my phone. A convenient way to get rid of me. The second guy was useless. The third guy told me there was no reason to reboot. He tried to send me a text manually and it did not arrive. This tech told me there is a known issue with T-mobile blocking Amazon's texts. They recommended I call Tmobile.Well, I spent 30 minutes on the phone with T-mobile tech support. They turned off all the anti-spam filters that try and reduce all those Chinese spam calls and texts and guess what? ... it didn't work. IT STILL DOESN'T WORK.Roughly 1 out of 5 mobile phones in the US are T-mobile. You would think that Amazon would 1) set up their verification systems to be compatible, and 2) configure the set-up on these devices so that it is not 100% dependent upon a verification process tied to something completely separate.\",\n",
       "  'images': None},\n",
       " {'reviewer_id': 'AHJJYMSQHFK2SCRGVUMLPY63SBTA',\n",
       "  'name': 'Marilynn Delgadillo',\n",
       "  'rating': 1.0,\n",
       "  'title': \"Don't write reviews until you see how it lasts\",\n",
       "  'date': 'May 7, 2020',\n",
       "  'helpful_count': 13,\n",
       "  'body': 'I purchased echo dots (kid\\'s version) for two of my children for Christmas. They absolutely loved it! There wasn\\'t a thing bad to say. A while later, however, my daughter discovered bunches of music most careful mothers would oppose to. I deleted them from her playlist and had a discussion about this. Her older brother and older sister also had serious discussions. Not long after, the songs were back on her playlist and she no longer could have the Echo. And so, my first offense to the echo was birthed.On my youngest\\'s birthday in March, he was given an echo of his own because he was a bit envious of his older siblings. All the perks of music and games Alexa style now at his command! Unfortunately, it took him less than a month to order Amazon Music without my permission. Since we already had a discussion about declining Alexa\\'s generous (and frequent) offer to purchase a subscription of any kind, he had to lose his echo as well. Another Echo hiccup.Our final towel was thrown in when my teenage son\\'s Echo kept automatically disconnecting from service. Customer service at echo support was not able to resolve this issue. I deleted the amazon app and tried to reset the whole system. Nothing worked.We had other troubles as well, like poor quality sound occasionally and static, random pauses, times she\\'s \"having trouble connecting to the internet\", can\\'t listen to podcasts because the explicit filter is on (never mind that my teenage son can listen to stand up comedy without her complaining), and \"something went wrong\" excuses. We were willing to put those troubles behind us until the last straw made my son\\'s completely unusable.Thank you for hanging in and reading my review! I know it was long....',\n",
       "  'images': None},\n",
       " {'reviewer_id': 'AEOLUFFPN4K7RE4LKQ6F6T3IJEFQ',\n",
       "  'name': 'Marjorie L.',\n",
       "  'rating': 1.0,\n",
       "  'title': 'Regular echo dot more worth it',\n",
       "  'date': 'July 29, 2020',\n",
       "  'helpful_count': 8,\n",
       "  'body': 'If you\\'re trying to decide between the Echo Dot and Echo Dot Kids, go for the dot. Long story short, Echo Dot shares many of the same features (e.g., parental controls, access to iHeartRadio, explicit filter, regular FreeTime, routines setup) as the Kid\\'s version minus the frustration.Here\\'s why: I bought this along with the Echo Glow for $10 because at the time, it seemed like a better price to pay than the Echo Dot and Glow separately for my toddler. I thought this device would also be more useful with the 1 year of FreeTime Unlimited but it\\'s really all about the marketing, in my opinion. Now, FreeTime is actually a nice app for older children, maybe 4 and up. I think Unlimited is a bunch of fluff. Seriously, if parental controls are what you need, then kids don\\'t need to be playing with Alexa that much anyway and you can have parental controls set up on a regular Echo Dot with regular FreeTime.So, here\\'s where the Kid\\'s version gets super frustrating. (Open rant). My 20 month old absolutely LOVES \"Baa Baa Black Sheep\". She even tries to ask Alexa to play it but her enunciation skills aren\\'t quite there yet. Anyway, I bought the kid\\'s version thinking it could play some songs from Amazon Music. Not even. I have to ask Alexa to sing \"Baa Baa Black Sheep\" because it says it can\\'t play the song. So, I ask for bedtime wind-down music or whatever it\\'s called and it\\'ll play some rap music from an iHeartRadio station. I can\\'t even open Amazon Music even with the explicit filter on. What good is any kind of Echo Dot without Amazon Music? I just want one song. One kid\\'s song. Is that so much to ask?Another gripe: This version is quite verbose. Sure, I\\'d love for it to tell bedtime stories and play games and grow with my kid but if I can do this with a regular Echo Dot then I\\'ll use the existing regular device I already have. I get that Alexa has to learn over time but this one just can\\'t seem to stop nattering after I ask it to stop. I don\\'t want suggestions. I vaguely recall turning off follow-up, a feature that would prevent me from having to repeat \"Alexa\" over and over again. I thought this kid\\'s version was extra special but it\\'s not. It\\'s a headache, if anything.Echo Dot vs. Echo Dot Kid\\'s verdict: Buy the regular Echo Dot!I got the sandstone colored Echo Dot on sale recently with the $0.99 + $15 Amazon Music Unlimited and that\\'s already saved me a headache. I finally got it to play the one song my kid can\\'t get enough of. I\\'m still going to keep the Echo Glow because I\\'m happy with it. Despite having to factory reset the Echo Dot Kids, my routines under the Echo Glow still remained the same because nothing changed in the Alexa app that I used to set it up.Goodbye Echo Dot Kids, you are too overpriced for your blue and rainbow colors!',\n",
       "  'images': None}]"
      ]
     },
     "execution_count": 20,
     "metadata": {},
     "output_type": "execute_result"
    }
   ],
   "source": [
    "parse_reviews(reviews[1])"
   ]
  },
  {
   "cell_type": "code",
   "execution_count": 12,
   "metadata": {},
   "outputs": [
    {
     "ename": "TypeError",
     "evalue": "Object of type Tag is not JSON serializable",
     "output_type": "error",
     "traceback": [
      "\u001b[1;31m---------------------------------------------------------------------------\u001b[0m",
      "\u001b[1;31mTypeError\u001b[0m                                 Traceback (most recent call last)",
      "\u001b[1;32m<ipython-input-12-34185a3d375f>\u001b[0m in \u001b[0;36m<module>\u001b[1;34m\u001b[0m\n\u001b[0;32m      2\u001b[0m \u001b[1;33m\u001b[0m\u001b[0m\n\u001b[0;32m      3\u001b[0m \u001b[1;32mwith\u001b[0m \u001b[0mopen\u001b[0m\u001b[1;33m(\u001b[0m\u001b[1;34m'data.json'\u001b[0m\u001b[1;33m,\u001b[0m \u001b[1;34m'w'\u001b[0m\u001b[1;33m)\u001b[0m \u001b[1;32mas\u001b[0m \u001b[0mfp\u001b[0m\u001b[1;33m:\u001b[0m\u001b[1;33m\u001b[0m\u001b[1;33m\u001b[0m\u001b[0m\n\u001b[1;32m----> 4\u001b[1;33m     \u001b[0mjson\u001b[0m\u001b[1;33m.\u001b[0m\u001b[0mdump\u001b[0m\u001b[1;33m(\u001b[0m\u001b[0mreviews\u001b[0m\u001b[1;33m,\u001b[0m \u001b[0mfp\u001b[0m\u001b[1;33m)\u001b[0m\u001b[1;33m\u001b[0m\u001b[1;33m\u001b[0m\u001b[0m\n\u001b[0m",
      "\u001b[1;32mC:\\Anaconda\\envs\\amazon_reviews\\lib\\json\\__init__.py\u001b[0m in \u001b[0;36mdump\u001b[1;34m(obj, fp, skipkeys, ensure_ascii, check_circular, allow_nan, cls, indent, separators, default, sort_keys, **kw)\u001b[0m\n\u001b[0;32m    177\u001b[0m     \u001b[1;31m# could accelerate with writelines in some versions of Python, at\u001b[0m\u001b[1;33m\u001b[0m\u001b[1;33m\u001b[0m\u001b[1;33m\u001b[0m\u001b[0m\n\u001b[0;32m    178\u001b[0m     \u001b[1;31m# a debuggability cost\u001b[0m\u001b[1;33m\u001b[0m\u001b[1;33m\u001b[0m\u001b[1;33m\u001b[0m\u001b[0m\n\u001b[1;32m--> 179\u001b[1;33m     \u001b[1;32mfor\u001b[0m \u001b[0mchunk\u001b[0m \u001b[1;32min\u001b[0m \u001b[0miterable\u001b[0m\u001b[1;33m:\u001b[0m\u001b[1;33m\u001b[0m\u001b[1;33m\u001b[0m\u001b[0m\n\u001b[0m\u001b[0;32m    180\u001b[0m         \u001b[0mfp\u001b[0m\u001b[1;33m.\u001b[0m\u001b[0mwrite\u001b[0m\u001b[1;33m(\u001b[0m\u001b[0mchunk\u001b[0m\u001b[1;33m)\u001b[0m\u001b[1;33m\u001b[0m\u001b[1;33m\u001b[0m\u001b[0m\n\u001b[0;32m    181\u001b[0m \u001b[1;33m\u001b[0m\u001b[0m\n",
      "\u001b[1;32mC:\\Anaconda\\envs\\amazon_reviews\\lib\\json\\encoder.py\u001b[0m in \u001b[0;36m_iterencode\u001b[1;34m(o, _current_indent_level)\u001b[0m\n\u001b[0;32m    429\u001b[0m             \u001b[1;32myield\u001b[0m \u001b[1;32mfrom\u001b[0m \u001b[0m_iterencode_list\u001b[0m\u001b[1;33m(\u001b[0m\u001b[0mo\u001b[0m\u001b[1;33m,\u001b[0m \u001b[0m_current_indent_level\u001b[0m\u001b[1;33m)\u001b[0m\u001b[1;33m\u001b[0m\u001b[1;33m\u001b[0m\u001b[0m\n\u001b[0;32m    430\u001b[0m         \u001b[1;32melif\u001b[0m \u001b[0misinstance\u001b[0m\u001b[1;33m(\u001b[0m\u001b[0mo\u001b[0m\u001b[1;33m,\u001b[0m \u001b[0mdict\u001b[0m\u001b[1;33m)\u001b[0m\u001b[1;33m:\u001b[0m\u001b[1;33m\u001b[0m\u001b[1;33m\u001b[0m\u001b[0m\n\u001b[1;32m--> 431\u001b[1;33m             \u001b[1;32myield\u001b[0m \u001b[1;32mfrom\u001b[0m \u001b[0m_iterencode_dict\u001b[0m\u001b[1;33m(\u001b[0m\u001b[0mo\u001b[0m\u001b[1;33m,\u001b[0m \u001b[0m_current_indent_level\u001b[0m\u001b[1;33m)\u001b[0m\u001b[1;33m\u001b[0m\u001b[1;33m\u001b[0m\u001b[0m\n\u001b[0m\u001b[0;32m    432\u001b[0m         \u001b[1;32melse\u001b[0m\u001b[1;33m:\u001b[0m\u001b[1;33m\u001b[0m\u001b[1;33m\u001b[0m\u001b[0m\n\u001b[0;32m    433\u001b[0m             \u001b[1;32mif\u001b[0m \u001b[0mmarkers\u001b[0m \u001b[1;32mis\u001b[0m \u001b[1;32mnot\u001b[0m \u001b[1;32mNone\u001b[0m\u001b[1;33m:\u001b[0m\u001b[1;33m\u001b[0m\u001b[1;33m\u001b[0m\u001b[0m\n",
      "\u001b[1;32mC:\\Anaconda\\envs\\amazon_reviews\\lib\\json\\encoder.py\u001b[0m in \u001b[0;36m_iterencode_dict\u001b[1;34m(dct, _current_indent_level)\u001b[0m\n\u001b[0;32m    403\u001b[0m                 \u001b[1;32melse\u001b[0m\u001b[1;33m:\u001b[0m\u001b[1;33m\u001b[0m\u001b[1;33m\u001b[0m\u001b[0m\n\u001b[0;32m    404\u001b[0m                     \u001b[0mchunks\u001b[0m \u001b[1;33m=\u001b[0m \u001b[0m_iterencode\u001b[0m\u001b[1;33m(\u001b[0m\u001b[0mvalue\u001b[0m\u001b[1;33m,\u001b[0m \u001b[0m_current_indent_level\u001b[0m\u001b[1;33m)\u001b[0m\u001b[1;33m\u001b[0m\u001b[1;33m\u001b[0m\u001b[0m\n\u001b[1;32m--> 405\u001b[1;33m                 \u001b[1;32myield\u001b[0m \u001b[1;32mfrom\u001b[0m \u001b[0mchunks\u001b[0m\u001b[1;33m\u001b[0m\u001b[1;33m\u001b[0m\u001b[0m\n\u001b[0m\u001b[0;32m    406\u001b[0m         \u001b[1;32mif\u001b[0m \u001b[0mnewline_indent\u001b[0m \u001b[1;32mis\u001b[0m \u001b[1;32mnot\u001b[0m \u001b[1;32mNone\u001b[0m\u001b[1;33m:\u001b[0m\u001b[1;33m\u001b[0m\u001b[1;33m\u001b[0m\u001b[0m\n\u001b[0;32m    407\u001b[0m             \u001b[0m_current_indent_level\u001b[0m \u001b[1;33m-=\u001b[0m \u001b[1;36m1\u001b[0m\u001b[1;33m\u001b[0m\u001b[1;33m\u001b[0m\u001b[0m\n",
      "\u001b[1;32mC:\\Anaconda\\envs\\amazon_reviews\\lib\\json\\encoder.py\u001b[0m in \u001b[0;36m_iterencode_dict\u001b[1;34m(dct, _current_indent_level)\u001b[0m\n\u001b[0;32m    403\u001b[0m                 \u001b[1;32melse\u001b[0m\u001b[1;33m:\u001b[0m\u001b[1;33m\u001b[0m\u001b[1;33m\u001b[0m\u001b[0m\n\u001b[0;32m    404\u001b[0m                     \u001b[0mchunks\u001b[0m \u001b[1;33m=\u001b[0m \u001b[0m_iterencode\u001b[0m\u001b[1;33m(\u001b[0m\u001b[0mvalue\u001b[0m\u001b[1;33m,\u001b[0m \u001b[0m_current_indent_level\u001b[0m\u001b[1;33m)\u001b[0m\u001b[1;33m\u001b[0m\u001b[1;33m\u001b[0m\u001b[0m\n\u001b[1;32m--> 405\u001b[1;33m                 \u001b[1;32myield\u001b[0m \u001b[1;32mfrom\u001b[0m \u001b[0mchunks\u001b[0m\u001b[1;33m\u001b[0m\u001b[1;33m\u001b[0m\u001b[0m\n\u001b[0m\u001b[0;32m    406\u001b[0m         \u001b[1;32mif\u001b[0m \u001b[0mnewline_indent\u001b[0m \u001b[1;32mis\u001b[0m \u001b[1;32mnot\u001b[0m \u001b[1;32mNone\u001b[0m\u001b[1;33m:\u001b[0m\u001b[1;33m\u001b[0m\u001b[1;33m\u001b[0m\u001b[0m\n\u001b[0;32m    407\u001b[0m             \u001b[0m_current_indent_level\u001b[0m \u001b[1;33m-=\u001b[0m \u001b[1;36m1\u001b[0m\u001b[1;33m\u001b[0m\u001b[1;33m\u001b[0m\u001b[0m\n",
      "\u001b[1;32mC:\\Anaconda\\envs\\amazon_reviews\\lib\\json\\encoder.py\u001b[0m in \u001b[0;36m_iterencode_dict\u001b[1;34m(dct, _current_indent_level)\u001b[0m\n\u001b[0;32m    403\u001b[0m                 \u001b[1;32melse\u001b[0m\u001b[1;33m:\u001b[0m\u001b[1;33m\u001b[0m\u001b[1;33m\u001b[0m\u001b[0m\n\u001b[0;32m    404\u001b[0m                     \u001b[0mchunks\u001b[0m \u001b[1;33m=\u001b[0m \u001b[0m_iterencode\u001b[0m\u001b[1;33m(\u001b[0m\u001b[0mvalue\u001b[0m\u001b[1;33m,\u001b[0m \u001b[0m_current_indent_level\u001b[0m\u001b[1;33m)\u001b[0m\u001b[1;33m\u001b[0m\u001b[1;33m\u001b[0m\u001b[0m\n\u001b[1;32m--> 405\u001b[1;33m                 \u001b[1;32myield\u001b[0m \u001b[1;32mfrom\u001b[0m \u001b[0mchunks\u001b[0m\u001b[1;33m\u001b[0m\u001b[1;33m\u001b[0m\u001b[0m\n\u001b[0m\u001b[0;32m    406\u001b[0m         \u001b[1;32mif\u001b[0m \u001b[0mnewline_indent\u001b[0m \u001b[1;32mis\u001b[0m \u001b[1;32mnot\u001b[0m \u001b[1;32mNone\u001b[0m\u001b[1;33m:\u001b[0m\u001b[1;33m\u001b[0m\u001b[1;33m\u001b[0m\u001b[0m\n\u001b[0;32m    407\u001b[0m             \u001b[0m_current_indent_level\u001b[0m \u001b[1;33m-=\u001b[0m \u001b[1;36m1\u001b[0m\u001b[1;33m\u001b[0m\u001b[1;33m\u001b[0m\u001b[0m\n",
      "\u001b[1;32mC:\\Anaconda\\envs\\amazon_reviews\\lib\\json\\encoder.py\u001b[0m in \u001b[0;36m_iterencode\u001b[1;34m(o, _current_indent_level)\u001b[0m\n\u001b[0;32m    436\u001b[0m                     \u001b[1;32mraise\u001b[0m \u001b[0mValueError\u001b[0m\u001b[1;33m(\u001b[0m\u001b[1;34m\"Circular reference detected\"\u001b[0m\u001b[1;33m)\u001b[0m\u001b[1;33m\u001b[0m\u001b[1;33m\u001b[0m\u001b[0m\n\u001b[0;32m    437\u001b[0m                 \u001b[0mmarkers\u001b[0m\u001b[1;33m[\u001b[0m\u001b[0mmarkerid\u001b[0m\u001b[1;33m]\u001b[0m \u001b[1;33m=\u001b[0m \u001b[0mo\u001b[0m\u001b[1;33m\u001b[0m\u001b[1;33m\u001b[0m\u001b[0m\n\u001b[1;32m--> 438\u001b[1;33m             \u001b[0mo\u001b[0m \u001b[1;33m=\u001b[0m \u001b[0m_default\u001b[0m\u001b[1;33m(\u001b[0m\u001b[0mo\u001b[0m\u001b[1;33m)\u001b[0m\u001b[1;33m\u001b[0m\u001b[1;33m\u001b[0m\u001b[0m\n\u001b[0m\u001b[0;32m    439\u001b[0m             \u001b[1;32myield\u001b[0m \u001b[1;32mfrom\u001b[0m \u001b[0m_iterencode\u001b[0m\u001b[1;33m(\u001b[0m\u001b[0mo\u001b[0m\u001b[1;33m,\u001b[0m \u001b[0m_current_indent_level\u001b[0m\u001b[1;33m)\u001b[0m\u001b[1;33m\u001b[0m\u001b[1;33m\u001b[0m\u001b[0m\n\u001b[0;32m    440\u001b[0m             \u001b[1;32mif\u001b[0m \u001b[0mmarkers\u001b[0m \u001b[1;32mis\u001b[0m \u001b[1;32mnot\u001b[0m \u001b[1;32mNone\u001b[0m\u001b[1;33m:\u001b[0m\u001b[1;33m\u001b[0m\u001b[1;33m\u001b[0m\u001b[0m\n",
      "\u001b[1;32mC:\\Anaconda\\envs\\amazon_reviews\\lib\\json\\encoder.py\u001b[0m in \u001b[0;36mdefault\u001b[1;34m(self, o)\u001b[0m\n\u001b[0;32m    177\u001b[0m \u001b[1;33m\u001b[0m\u001b[0m\n\u001b[0;32m    178\u001b[0m         \"\"\"\n\u001b[1;32m--> 179\u001b[1;33m         raise TypeError(f'Object of type {o.__class__.__name__} '\n\u001b[0m\u001b[0;32m    180\u001b[0m                         f'is not JSON serializable')\n\u001b[0;32m    181\u001b[0m \u001b[1;33m\u001b[0m\u001b[0m\n",
      "\u001b[1;31mTypeError\u001b[0m: Object of type Tag is not JSON serializable"
     ]
    }
   ],
   "source": [
    "import json\n",
    "\n",
    "with open('data.json', 'w') as fp:\n",
    "    json.dump(reviews, fp)"
   ]
  },
  {
   "cell_type": "code",
   "execution_count": 11,
   "metadata": {},
   "outputs": [
    {
     "data": {
      "text/plain": [
       "{1: {'AGTNOSUOA5IVU2BCKGPG3U2CCJ7A': {'name': 'Bill B.',\n",
       "   'rating': '2.0 out of 5 stars',\n",
       "   'title': '\\nNot ready for prime time\\n',\n",
       "   'date': 'Reviewed in the United States on November 12, 2019',\n",
       "   'helpful_count': <span class=\"a-size-base a-color-tertiary cr-vote-text\" data-hook=\"helpful-vote-statement\">266 people found this helpful</span>,\n",
       "   'body': <span class=\"a-size-base review-text review-text-content\" data-hook=\"review-body\">\n",
       "   <span>\n",
       "     This is the epitome of a good idea marred by poor execution. A lot of the stock skills (Disney Stories, for instance, which is a large part of why I bought the thing) are clunky or glitchy, and have tons of bugs. It doesn't handle errors gracefully- and leaves me in the position of trying to explain a software bug to a 4 year old who doesn't understand and just wants a Puppy Dog Pals story before bed.<br/><br/>I can't switch profiles and use FreeTime with another profile. The end result is that every time my kids ask it to play music, it cuts off my Spotify, which is hindering my ability to listen at work. On top of that, if they don't specify the song, it has some pretty weird choices for kids' music- most notable recently is \"Emotion\" by the Bee Gees.<br/><br/>It's as strict as a regular Alexa at interpreting commands- \"Read me Disney Stories\" gets you the Disney Stories skill, but \"Read me a Disney story\" gets you the Disney Wikipedia entry read to you- and this isn't really ideal for children.<br/><br/>Perhaps worst of all, the parental controls over skills is pretty spotty. For instance, it lets my kids control our Nest thermostat even in FreeTime, which is unfortunate because I accidentally let them overhear me doing it recently and all it took was one time hearing the command for them to start messing with the temperature. It lets them control our Master Bedroom lights from their room. It also lets them randomly drop in on other Echoes- awkward when Mommy and Daddy are enjoying some \"alone time\" or when Great Grandma can't figure out why she can hear them coming from her device.<br/><br/>And you don't even want to hear about the time the trigger word was randomly changed on its own. That took thirty agonizing minutes of crying toddler tantrum to figure out (and I suspect I got it faster than most- I do software troubleshooting for a living!)<br/><br/>Honestly, the best I can say is that the year of FreeTime that comes with it is nice- but in the end I wish I had not bought it. Now getting rid of it would feel like a punishment to them, so the tranquility of my home for the foreseeable future is at the dubious mercy of underpaid and overworked Amazon developers...<br/><br/>Alexa, play Despacito.\n",
       "   </span>\n",
       "   </span>,\n",
       "   'images': None},\n",
       "  'AGE374FAUCXYWLL5CNK3VXJ2RYNQ': {'name': 'infinitytome',\n",
       "   'rating': '5.0 out of 5 stars',\n",
       "   'title': '\\nMakes my life so much easier\\n',\n",
       "   'date': 'Reviewed in the United States on February 12, 2020',\n",
       "   'helpful_count': <span class=\"a-size-base a-color-tertiary cr-vote-text\" data-hook=\"helpful-vote-statement\">181 people found this helpful</span>,\n",
       "   'body': <span class=\"a-size-base review-text review-text-content\" data-hook=\"review-body\">\n",
       "   <span>\n",
       "     I'm a college student who got this echo dot to help with my disability. I got the rainbow color and just declined to activate the free time feature, making it a regular dot instead of a kids dot. Without the echo dot, I would struggle to wake up, go outside without proper seasonal clothing, and forget to take my medications - a lot. It is really difficult for me to self-regulate anything normal from eating to sleeping to whatever.<br/><br/>Accessibility: Alexa wakes me up with an alarm and then five to ten minutes later starts telling me one short happy news story, the weather, and some other things in my routine. She will alert me about 15 minutes before I need to leave for class or work and remind me to take my medication, tell me the weather (so I can wear a coat or get an umbrella if necessary), and then give me the traffic situation to my current destination. I can ask Alexa the time, for her to set timers, and a lot of other things. If I had to manually do these things instead of speaking out loud, they probably would not happen.<br/><br/>The sound quality is amazing, just utterly wonderful. I will play music and it sounds better on the echo dot than it does on my nice portable speakers. It's really clear, I don't really know another way to describe it.<br/><br/>TL;DR The echo dot has not only made me happy, it has improved my quality of life and helped me to self-regulate more than I could before.\n",
       "   </span>\n",
       "   </span>,\n",
       "   'images': None},\n",
       "  'AENFKAELE4CDMJSZ7BFFSTODL3YQ': {'name': 'K. Hudson',\n",
       "   'rating': '2.0 out of 5 stars',\n",
       "   'title': '\\nAggravating\\n',\n",
       "   'date': 'Reviewed in the United States on January 29, 2020',\n",
       "   'helpful_count': <span class=\"a-size-base a-color-tertiary cr-vote-text\" data-hook=\"helpful-vote-statement\">118 people found this helpful</span>,\n",
       "   'body': <span class=\"a-size-base review-text review-text-content\" data-hook=\"review-body\">\n",
       "   <span>\n",
       "     So.  For young kids, it's okay.  My boys are both under the age of ten, so they still have low expectations and are easily entertained by this product.<br/><br/>The unfortunate thing is that you have to be ultra specific when using commands - and even then, the Alexa AI struggles.  For example, if you say, \"Read me a story\", the Echo Dot will randomly open a book from Audible.  And it won't select a new story until it's done reading that book.  Let's say that book is something like 365 days of Alphabet Rhymes.  Just imagine the torture.  I watched my kids repeatedly command their Echo to \"Stop!  Read a different story.\"  Guess what?  The device picked where it had left off each time.  This went on until I stepped in and tried to stop the never-ending alphabet rampage.  Took a couple tries, but we finally found out that the key command to use is \"Cancel.\"  And after some troubleshooting, we found out that the command \"Alexa, TELL me a story\" has better results in that the AI will list a small selection of short stories for the young audience to choose from.<br/><br/>The Freetime thing seemed like a good idea.  The Alexa AI alluringly suggested that we could request specific character stories by saying things like, \"Alexa, read Cars 2.\"  Haha-ha...ha.  Nope.  If you request that, Alexa says, \"Sorry, I can't find anything on Cars 2/Frozen/Toy Story/etc.\"  So the only way my kids can get the AI to read the story they want is by asking \"Alexa, tell me a story\" (and even then, it'll only list a few at a time, so the boys have to repeat this process several times before finally hitting on the story they wanted.<br/><br/>We have books that we purchased on Audible, and Alexa lists those books when we ask it \"What Audible books do we have?\"  Unfortunately, if we ask it to read one of our Audible books, the AI acts as if it can't find the book...ya know, the one it literally JUST LISTED.  And in case anyone is wondering, yes, I have opened the parental permissions and marked our Audible books as accessible for the Echo Dot Kids Edition.  Permissions be damned, I guess.  Alexa only reads what it wants.<br/><br/>Don't even get me started on music.  You can ask Alexa to play genres, like \"Alexa, play classical music.\"  The AI will oblige.  However, if you ask for specific artists (that are available for Amazon Prime members), Alexa will somehow not find the artist.  It's very similar to the \"read a story\" conundrum.  The AI suggests that you can listen to your favorite artists, then it claims it can't find them.<br/><br/>Pros:<br/>This makes a good, two-way intercom for announcing that it's dinner time, bath time, bedtime, etc.<br/><br/>This Ech Dot also works great as a speaker through which you can play your music or audio books - so long as you open the Alexa app from your phone and enter the commands on the app to play the desired media on the Echo Dot device.  Again, the Echo Dot itself has been playing dumb, so our attempts to directly request that the desired media play on Echo Dot have not worked.  The Alexa app on my phone functions though.<br/><br/>Upon request, this Echo Dot will amuse your child with a selection of repetitive and lame jokes.  Fine for early grade school, but I imagine the novelty will wear off soon.<br/><br/>One thing that I appreciate is the way Echo Dot Kids Edition handles sensitive questions.  Since this device was going to be used by my children, I tested it by asking a wide range of awkward questions, from \"What's the difference between boys and girls?\" to \"Who is Hitler?\" to \"Is there a God?\" to \"How are babies made?\"  For sensitive questions like these, the AI will gently suggest that the child speak to their parents or guardians.<br/><br/>All in all, it's a glorified smart speaker that you can control from your phone, with very limited interactive features.  And Freetime is basically useless for the most part, because requesting specific media typically ends in the statement \"Sorry, I can find that.\"<br/><br/>I recommend only getting this if you are looking for something to entertain a young gradeschooler while you are studying or working from home.\n",
       "   </span>\n",
       "   </span>,\n",
       "   'images': None},\n",
       "  'AH4BAWOKRKS2OTC5VNJQRK3R5JTA': {'name': 'Eddie G',\n",
       "   'rating': '2.0 out of 5 stars',\n",
       "   'title': '\\nGreat as stand-alone, poor for familes\\n',\n",
       "   'date': 'Reviewed in the United States on January 3, 2020',\n",
       "   'helpful_count': <span class=\"a-size-base a-color-tertiary cr-vote-text\" data-hook=\"helpful-vote-statement\">45 people found this helpful</span>,\n",
       "   'body': <span class=\"a-size-base review-text review-text-content\" data-hook=\"review-body\">\n",
       "   <span>\n",
       "     Amazon's software engineers have clearly not considered family or multi-person households when designing the software for this device. I have spent close to 10 hours trying to fix what should have been a basic trouble-shooting matter: we have two kids on two kids echos. Each dot is registered to a different kid. Each kid has a Spotify account. It took forever to figure out how to have each Echo play different songs at the same time. Note: I wasn't trying to figure this out on my own, this was with the help of Amazon support both online and over the phone. 10 HOURS! And it still isn't at 100%--the Alexa app on my phone still says things that are not consistent with what is happening in each Echo Dot.<br/><br/>Look, I understand this kind of thing is complicated to design. But, come on. Amazon is clearly pricing the Dots so that there can be multiple dots in a household. And there is usually more than one person per household. How could they not have considered \"musical multitasking\" in their testing?\n",
       "   </span>\n",
       "   </span>,\n",
       "   'images': None},\n",
       "  'AG4JRU3F4IDGGSK64CRQ6COQCFOA': {'name': 'GypsyRiver82',\n",
       "   'rating': '4.0 out of 5 stars',\n",
       "   'title': '\\nKids Edition is Great!\\n',\n",
       "   'date': 'Reviewed in the United States on May 24, 2020',\n",
       "   'helpful_count': <span class=\"a-size-base a-color-tertiary cr-vote-text\" data-hook=\"helpful-vote-statement\">42 people found this helpful</span>,\n",
       "   'body': <span class=\"a-size-base review-text review-text-content\" data-hook=\"review-body\">\n",
       "   <span>\n",
       "     My son has a speech disorder.  Most of what he says can be understood but Alexa has trouble understanding him. Sometimes she will tell him \"Sorry I can't do that.\" Yet when I say it, she does fine. Other than that, he is enjoying his dot. Especially the routines and jokes. The bedtime routine I set is great. I even added an extra one in case he wakes up in the middle of the night and needs help going back to sleep. This is a learning experience for both of us. Books have been an issue.\n",
       "   </span>\n",
       "   </span>,\n",
       "   'images': <div class=\"review-image-tile-section\" data-reviewid=\"RJGCRGNYX9877\">\n",
       "   <img alt=\"review image\" class=\"review-image-tile\" data-hook=\"review-image-tile\" height=\"88\" src=\"https://images-na.ssl-images-amazon.com/images/I/71E-BtB1CCL._SY88.jpg\" width=\"100%\"/><img alt=\"review image\" class=\"review-image-tile\" data-hook=\"review-image-tile\" height=\"88\" src=\"https://images-na.ssl-images-amazon.com/images/I/71Em7Dz0PTL._SY88.jpg\" width=\"100%\"/><img alt=\"review image\" class=\"review-image-tile\" data-hook=\"review-image-tile\" height=\"88\" src=\"https://images-na.ssl-images-amazon.com/images/I/71bIYYZ7KgL._SY88.jpg\" width=\"100%\"/><img alt=\"review image\" class=\"review-image-tile\" data-hook=\"review-image-tile\" height=\"88\" src=\"https://images-na.ssl-images-amazon.com/images/I/71o00NuCTFL._SY88.jpg\" width=\"100%\"/></div>},\n",
       "  'AHVXUUYXMQOK46DTM7LBLBE6YPKQ': {'name': 'Sarah',\n",
       "   'rating': '5.0 out of 5 stars',\n",
       "   'title': '\\nAbsolutely perfect for my 3.5 year old- it actually understands him!\\n',\n",
       "   'date': 'Reviewed in the United States on June 15, 2020',\n",
       "   'helpful_count': <span class=\"a-size-base a-color-tertiary cr-vote-text\" data-hook=\"helpful-vote-statement\">32 people found this helpful</span>,\n",
       "   'body': <span class=\"a-size-base review-text review-text-content\" data-hook=\"review-body\">\n",
       "   <span>\n",
       "     I went back and forth a thousand times between the regular echo dot and the kids version, and I'm so glad we went with the kids version for my 3 year old! Anyone with a toddler or younger child will agree, most times Alexa doesn't understand what the heck they're saying. This one understands my son so much better than any other Alexa device we own! Within minutes of hooking it up, he was asking questions about sounds that animals make, how to say words in Spanish, played a game with it and put music on, all by himself. It's a lifesaver as a single mom, stuck home during the pandemic with a toddler! He spent a solid 3 hours playing in his room independently, listening to music while looking at books, asking questions while playing with his blocks, etc. Anything that helps my kid play independently right now is worth its weight in GOLD! The sound quality is fantastic as well, and we love Freetime, so it was a real no brainer in the end.\n",
       "   </span>\n",
       "   </span>,\n",
       "   'images': None},\n",
       "  'AGDF2NUI7L5VWP74MQPSW6CD7NAQ': {'name': 'Nuriel',\n",
       "   'rating': '5.0 out of 5 stars',\n",
       "   'title': '\\nMom and Daughter approved\\n',\n",
       "   'date': 'Reviewed in the United States on March 12, 2020',\n",
       "   'helpful_count': <span class=\"a-size-base a-color-tertiary cr-vote-text\" data-hook=\"helpful-vote-statement\">24 people found this helpful</span>,\n",
       "   'body': <span class=\"a-size-base review-text review-text-content\" data-hook=\"review-body\">\n",
       "   <span>\n",
       "     I bought this at my local Bestbuy store but oddly enough, amazon is now asking me to review it so here I am.<br/>Echo dot for kids is amazing. Sound quality is perfect. Recognizes any voice. My daughter will say “Alexa, play (sings random words in the correct right tunes)” and Alexa plays the right song for her. I was amazed.<br/>You can set up multiple alarms, cancel one or multiple alarms, set up alarms for weekends only, weekdays, etc.<br/>you can ask her to play a lullaby or read a story.<br/>No explicit songs or songs with curses are allowed either. Example: truth hurts by lilo is not allowable to be played on this echo for kids.<br/>They’re not allowed to order anything on amazon.<br/><br/>The only problem we get is sometimes, it gets disconnected from our WiFi and I have to go back to the app to reset things. And you’ll know if this happens. Alexa will tell you. My daughter came up to me and said, “Mom, Alexa said she cannot connect to the internet. You need to fix her.”<br/><br/>Overall, my daughter likes using it. Although she doesn’t use it all the time, she still likes it.\n",
       "   </span>\n",
       "   </span>,\n",
       "   'images': None},\n",
       "  'AEJOYWAZV4HIXCKO67XDDF6G46JA': {'name': 'EMOlson',\n",
       "   'rating': '1.0 out of 5 stars',\n",
       "   'title': '\\nUNABLE TO SETUP - USELESS\\n',\n",
       "   'date': 'Reviewed in the United States on November 21, 2019',\n",
       "   'helpful_count': <span class=\"a-size-base a-color-tertiary cr-vote-text\" data-hook=\"helpful-vote-statement\">21 people found this helpful</span>,\n",
       "   'body': <span class=\"a-size-base review-text review-text-content\" data-hook=\"review-body\">\n",
       "   <span>\n",
       "     Doesn't work for me on Samsung Galaxy S8 phone using T-mobile...  DO NOT BUY IF YOU HAVE THIS COMBO!!!!<br/><br/>Went through the set-up multiple times. Each time I completed it, the App then directs you to enable the Free One Year subscription of FreeTime Unlimited. Each time I go through those steps and it asked to verify with a OTP (one time password) text and the text does not arrive. I prompted to re-send multiple times and nothing.  When you kill the FreeTime setup the DOT setup is canceled.  The DOT will not respond.<br/><br/>I called amazon tech support.  He asked me to confirm that the Alexa App has permission to send receive notifications. (I had already checked that but he made me re-check). Then he tells me I have to re-boot my phone. A convenient way to get rid of me. The second guy was useless. The third guy told me there was no reason to reboot. He tried to send me a text manually and it did not arrive. This tech told me there is a known issue with T-mobile blocking Amazon's texts. They recommended I call Tmobile.<br/><br/>Well, I spent 30 minutes on the phone with T-mobile tech support. They turned off all the anti-spam filters that try and reduce all those Chinese spam calls and texts and guess what? ... it didn't work. IT STILL DOESN'T WORK.<br/><br/>Roughly 1 out of 5 mobile phones in the US are T-mobile. You would think that Amazon would 1) set up their verification systems to be compatible, and 2) configure the set-up on these devices so that it is not 100% dependent upon a verification process tied to something completely separate.\n",
       "   </span>\n",
       "   </span>,\n",
       "   'images': None},\n",
       "  'AHJJYMSQHFK2SCRGVUMLPY63SBTA': {'name': 'Marilynn Delgadillo',\n",
       "   'rating': '1.0 out of 5 stars',\n",
       "   'title': \"\\nDon't write reviews until you see how it lasts\\n\",\n",
       "   'date': 'Reviewed in the United States on May 7, 2020',\n",
       "   'helpful_count': <span class=\"a-size-base a-color-tertiary cr-vote-text\" data-hook=\"helpful-vote-statement\">11 people found this helpful</span>,\n",
       "   'body': <span class=\"a-size-base review-text review-text-content\" data-hook=\"review-body\">\n",
       "   <span>\n",
       "     I purchased echo dots (kid's version) for two of my children for Christmas.  They absolutely loved it!  There wasn't a thing bad to say.  A while later, however, my daughter discovered bunches of music most careful mothers would oppose to.  I deleted them from her playlist and had a discussion about this.  Her older brother and older sister also had serious discussions.  Not long after, the songs were back on her playlist and she no longer could have the Echo.  And so, my first offense to the echo was birthed.<br/>On my youngest's birthday in March, he was given an echo of his own because he was a bit envious of his older siblings.  All the perks of music and games Alexa style now at his command!  Unfortunately, it took him less than a month to order Amazon Music without my permission.  Since we already had a discussion about declining Alexa's generous (and frequent) offer to purchase a subscription of any kind, he had to lose his echo as well.  Another Echo hiccup.<br/>Our final towel was thrown in when my teenage son's Echo kept automatically disconnecting from service.  Customer service at echo support was not able to resolve this issue.  I deleted the amazon app and tried to reset the whole system.  Nothing worked.<br/>We had other troubles as well, like poor quality sound occasionally and static, random pauses, times she's \"having trouble connecting to the internet\", can't listen to podcasts because the explicit filter is on (never mind that my teenage son can listen to stand up comedy without her complaining), and \"something went wrong\" excuses.  We were willing to put those troubles behind us until the last straw made my son's completely unusable.<br/>Thank you for hanging in and reading my review!  I know it was long....\n",
       "   </span>\n",
       "   </span>,\n",
       "   'images': None},\n",
       "  'AG67NVGNK7CYV6ZLNYSVJMJUKCDQ': {'name': 'B. Vinson',\n",
       "   'rating': '4.0 out of 5 stars',\n",
       "   'title': '\\nGreat for kids and really good parent controls,  a few shortcomings\\n',\n",
       "   'date': 'Reviewed in the United States on January 29, 2020',\n",
       "   'helpful_count': <span class=\"a-size-base a-color-tertiary cr-vote-text\" data-hook=\"helpful-vote-statement\">8 people found this helpful</span>,\n",
       "   'body': <span class=\"a-size-base review-text review-text-content\" data-hook=\"review-body\">\n",
       "   <span>\n",
       "     Purchased this for grandsons as Christmas present, hid it and had a character wake them on Christmas morning (thought it would be a good idea, but for kids to hear a strange voice coming from 'nowhere' in the early morning hours can be a shock- a good idea, in theory, not-so-good outcome...). The device works well, it's basically \"Alexa\" w/ some software-based filters making it suitable for kids.<br/><br/>What I learned:<br/>. In set up, name it all your kid's names; ie \"Jack and Jill's Echo\", though you can add multiple kids, there's no way to track each kid's activities because their acct is in the software- unless you make them (one of them) the owner of the Alexa... it can't switch between children so it's a moot point to track their activities as individual kids.<br/>. If you have another Echo in the home change the 'wake up' name, which can create its own problems because the instruction booklet tells the kids to say \"Alexa, (whatever the skill they want it to perform)...\"<br/>. Parental controls are really good; pausing, do not disturb, wake up alarms, etc. but adding content from audible, music, etc accounts can be problematic.<br/>. . I like the parental controls, but I don't know if all the things that the 'built-in' controls do cannot be done manually, I guess I'll cross that learning curve bridge when the membership renewal comes due.<br/><br/>Like:<br/>. Relatively easy setup (especially if you already are familiar w/ Echos)<br/>. Ability to remote control devices auto-off time, etc<br/><br/>Dislike:<br/>. The mystery of \"how much will this cost?\" to renew membership<br/>. No way (that I could see) to track individual kid's activity<br/>. . No 'Craig of the Creek' characters in the character name options...<br/><br/>Overall, it's worth the purchase, but if you're savvy enough you may be able to convert an existing Echo (or the kid's Echo after the free year expires) into what this Echo provides- or close to it.\n",
       "   </span>\n",
       "   </span>,\n",
       "   'images': None}}}"
      ]
     },
     "execution_count": 11,
     "metadata": {},
     "output_type": "execute_result"
    }
   ],
   "source": [
    "reviews"
   ]
  },
  {
   "cell_type": "code",
   "execution_count": 10,
   "metadata": {},
   "outputs": [
    {
     "ename": "RecursionError",
     "evalue": "maximum recursion depth exceeded",
     "output_type": "error",
     "traceback": [
      "\u001b[1;31m---------------------------------------------------------------------------\u001b[0m",
      "\u001b[1;31mRecursionError\u001b[0m                            Traceback (most recent call last)",
      "\u001b[1;32m<ipython-input-10-da08dfd06d55>\u001b[0m in \u001b[0;36m<module>\u001b[1;34m\u001b[0m\n\u001b[1;32m----> 1\u001b[1;33m \u001b[0mdump_pickle\u001b[0m\u001b[1;33m(\u001b[0m\u001b[0mreviews\u001b[0m\u001b[1;33m,\u001b[0m \u001b[0mfilename\u001b[0m\u001b[1;33m=\u001b[0m\u001b[1;34mf\"{PICKLE_PATH}\\\\test\"\u001b[0m\u001b[1;33m)\u001b[0m\u001b[1;33m\u001b[0m\u001b[1;33m\u001b[0m\u001b[0m\n\u001b[0m",
      "\u001b[1;32mE:\\Projects\\amazon_reviews\\src\\utils.py\u001b[0m in \u001b[0;36mdump_pickle\u001b[1;34m(obj, filename)\u001b[0m\n\u001b[0;32m      5\u001b[0m \u001b[1;32mdef\u001b[0m \u001b[0mdump_pickle\u001b[0m\u001b[1;33m(\u001b[0m\u001b[0mobj\u001b[0m\u001b[1;33m,\u001b[0m \u001b[0mfilename\u001b[0m \u001b[1;33m:\u001b[0m \u001b[0mstr\u001b[0m\u001b[1;33m)\u001b[0m\u001b[1;33m:\u001b[0m\u001b[1;33m\u001b[0m\u001b[1;33m\u001b[0m\u001b[0m\n\u001b[0;32m      6\u001b[0m     \u001b[1;34m\"\"\"Save object in Python pickle form.\"\"\"\u001b[0m\u001b[1;33m\u001b[0m\u001b[1;33m\u001b[0m\u001b[0m\n\u001b[1;32m----> 7\u001b[1;33m     dump(obj, open(f\"{filename}.pickle\", \"wb\"),\n\u001b[0m\u001b[0;32m      8\u001b[0m                    protocol=HIGHEST_PROTOCOL)\n\u001b[0;32m      9\u001b[0m \u001b[1;33m\u001b[0m\u001b[0m\n",
      "\u001b[1;31mRecursionError\u001b[0m: maximum recursion depth exceeded"
     ]
    }
   ],
   "source": [
    "dump_pickle(reviews, filename=f\"{PICKLE_PATH}\\\\test\")"
   ]
  },
  {
   "cell_type": "code",
   "execution_count": 33,
   "metadata": {},
   "outputs": [
    {
     "data": {
      "text/plain": [
       "10"
      ]
     },
     "execution_count": 33,
     "metadata": {},
     "output_type": "execute_result"
    }
   ],
   "source": [
    "load_pickle(filename=f\"{PICKLE_PATH}\\\\test\")"
   ]
  },
  {
   "cell_type": "code",
   "execution_count": 26,
   "metadata": {},
   "outputs": [
    {
     "ename": "RecursionError",
     "evalue": "maximum recursion depth exceeded",
     "output_type": "error",
     "traceback": [
      "\u001b[1;31m---------------------------------------------------------------------------\u001b[0m",
      "\u001b[1;31mRecursionError\u001b[0m                            Traceback (most recent call last)",
      "\u001b[1;32m<ipython-input-26-ccbf2ce72a0c>\u001b[0m in \u001b[0;36m<module>\u001b[1;34m\u001b[0m\n\u001b[1;32m----> 1\u001b[1;33m dump_pickle(reviews,\n\u001b[0m\u001b[0;32m      2\u001b[0m                 filename=f\"{PICKLE_PATH}\\\\{file_name}\")\n",
      "\u001b[1;32mE:\\Projects\\amazon_reviews\\src\\utils.py\u001b[0m in \u001b[0;36mdump_pickle\u001b[1;34m(obj, filename)\u001b[0m\n\u001b[0;32m      4\u001b[0m \u001b[1;32mdef\u001b[0m \u001b[0mdump_pickle\u001b[0m\u001b[1;33m(\u001b[0m\u001b[0mobj\u001b[0m\u001b[1;33m,\u001b[0m \u001b[0mfilename\u001b[0m \u001b[1;33m:\u001b[0m \u001b[0mstr\u001b[0m\u001b[1;33m)\u001b[0m\u001b[1;33m:\u001b[0m\u001b[1;33m\u001b[0m\u001b[1;33m\u001b[0m\u001b[0m\n\u001b[0;32m      5\u001b[0m     \u001b[1;34m\"\"\"Save object in Python pickle form.\"\"\"\u001b[0m\u001b[1;33m\u001b[0m\u001b[1;33m\u001b[0m\u001b[0m\n\u001b[1;32m----> 6\u001b[1;33m     \u001b[0mdump\u001b[0m\u001b[1;33m(\u001b[0m\u001b[0mobj\u001b[0m\u001b[1;33m,\u001b[0m \u001b[0mopen\u001b[0m\u001b[1;33m(\u001b[0m\u001b[1;34mf\"{filename}.pickle\"\u001b[0m\u001b[1;33m,\u001b[0m \u001b[1;34m\"wb\"\u001b[0m\u001b[1;33m)\u001b[0m\u001b[1;33m)\u001b[0m\u001b[1;33m\u001b[0m\u001b[1;33m\u001b[0m\u001b[0m\n\u001b[0m\u001b[0;32m      7\u001b[0m \u001b[1;33m\u001b[0m\u001b[0m\n\u001b[0;32m      8\u001b[0m \u001b[1;32mdef\u001b[0m \u001b[0mload_pickle\u001b[0m\u001b[1;33m(\u001b[0m\u001b[0mfilename\u001b[0m \u001b[1;33m:\u001b[0m \u001b[0mstr\u001b[0m\u001b[1;33m)\u001b[0m\u001b[1;33m:\u001b[0m\u001b[1;33m\u001b[0m\u001b[1;33m\u001b[0m\u001b[0m\n",
      "\u001b[1;31mRecursionError\u001b[0m: maximum recursion depth exceeded"
     ]
    }
   ],
   "source": [
    "dump_pickle(reviews,\n",
    "            filename=f\"{PICKLE_PATH}\\\\{file_name}\")"
   ]
  },
  {
   "cell_type": "code",
   "execution_count": 37,
   "metadata": {},
   "outputs": [],
   "source": [
    "url = \"https://www.amazon.com/All-New-Echo-Kids-designed-Rainbow/product-reviews/B07Q2MXPH6/ref=cm_cr_getr_d_paging_btm_next_20?ie=UTF8&reviewerType=avp_only_reviews&pageNumber=20\""
   ]
  },
  {
   "cell_type": "code",
   "execution_count": 40,
   "metadata": {},
   "outputs": [],
   "source": [
    "load_url(driver, update_review_url_for_page_no(url,2))"
   ]
  },
  {
   "cell_type": "code",
   "execution_count": 36,
   "metadata": {},
   "outputs": [
    {
     "data": {
      "text/plain": [
       "'https://www.amazon.com/All-New-Echo-Kids-designed-Rainbow/product-reviews/B07Q2MXPH6/ref=cm_cr_getr_d_paging_btm_next_20?ie=UTF8&amp;reviewerType=avp_only_reviews&amp;pageNumber=20'"
      ]
     },
     "execution_count": 36,
     "metadata": {},
     "output_type": "execute_result"
    }
   ],
   "source": [
    "\"https://www.amazon.com/All-New-Echo-Kids-designed-Rainbow/product-reviews/B07Q2MXPH6/ref=cm_cr_getr_d_paging_btm_next_20?ie=UTF8&amp;reviewerType=avp_only_reviews&amp;pageNumber=20\""
   ]
  },
  {
   "cell_type": "code",
   "execution_count": null,
   "metadata": {},
   "outputs": [],
   "source": []
  }
 ],
 "metadata": {
  "kernelspec": {
   "display_name": "amazon_reviews",
   "language": "python",
   "name": "amazon_reviews"
  },
  "language_info": {
   "codemirror_mode": {
    "name": "ipython",
    "version": 3
   },
   "file_extension": ".py",
   "mimetype": "text/x-python",
   "name": "python",
   "nbconvert_exporter": "python",
   "pygments_lexer": "ipython3",
   "version": "3.8.5"
  }
 },
 "nbformat": 4,
 "nbformat_minor": 4
}
